{
 "cells": [
  {
   "cell_type": "code",
   "execution_count": null,
   "metadata": {},
   "outputs": [],
   "source": [
    "#default_exp cli"
   ]
  },
  {
   "cell_type": "code",
   "execution_count": null,
   "metadata": {},
   "outputs": [],
   "source": [
    "#export\n",
    "import typer\n",
    "from memery.core import queryFlow\n"
   ]
  },
  {
   "cell_type": "code",
   "execution_count": null,
   "metadata": {},
   "outputs": [],
   "source": [
    "#export\n",
    "app = typer.Typer()"
   ]
  },
  {
   "cell_type": "code",
   "execution_count": null,
   "metadata": {},
   "outputs": [],
   "source": [
    "#export\n",
    "\n",
    "@app.command()\n",
    "def search_folder(path: str, query: str, n: int = 10):\n",
    "    ranked = queryFlow(path, query)\n",
    "    print(ranked[:n])\n",
    "#     return(ranked)"
   ]
  },
  {
   "cell_type": "code",
   "execution_count": null,
   "metadata": {},
   "outputs": [
    {
     "name": "stdout",
     "output_type": "stream",
     "text": [
      "Searching 78 images\n",
      "[['images/Wholesome-Meme-8.jpg'], ['images/Wholesome-Meme-35.jpg'], ['images/Wholesome-Meme-5.jpg'], ['images/Wholesome-Meme-67.png'], ['images/Wholesome-Meme-44.png'], ['images/Wholesome-Meme-71.jpg'], ['images/Wholesome-Meme-15.jpg'], ['images/Wholesome-Meme-18.jpg'], ['images/Wholesome-Meme-72.jpg'], ['images/Wholesome-Meme-39.jpg']]\n"
     ]
    }
   ],
   "source": [
    "search_folder('./images', 'a funny dog meme')"
   ]
  },
  {
   "cell_type": "code",
   "execution_count": null,
   "metadata": {},
   "outputs": [],
   "source": [
    "#export \n",
    "def __main__():\n",
    "    app()"
   ]
  },
  {
   "cell_type": "code",
   "execution_count": null,
   "metadata": {},
   "outputs": [],
   "source": []
  }
 ],
 "metadata": {
  "kernelspec": {
   "display_name": "Python 3",
   "language": "python",
   "name": "python3"
  }
 },
 "nbformat": 4,
 "nbformat_minor": 4
}
