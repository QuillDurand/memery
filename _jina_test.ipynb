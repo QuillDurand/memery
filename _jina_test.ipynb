{
 "cells": [
  {
   "cell_type": "markdown",
   "metadata": {},
   "source": [
    "# Turn a working Jina example into a full-fledged memery pipeline"
   ]
  },
  {
   "cell_type": "markdown",
   "metadata": {},
   "source": [
    "uery flow:\n",
    "\n",
    "Start timer\n",
    "Get location of files\n",
    "Get device (GPU/CPU)\n",
    "Read database\n",
    "Load index\n",
    "Check if files changed from database\n",
    "Index database if changed\n",
    "Check for image/text query\n",
    "Encode query\n",
    "Add query encodings if multiple\n",
    "Index top_k by query\n",
    "Get filenames from index\n",
    "Return filenames\n",
    "A lot of the code I wrote for memery wasjust glue code for moving files and tensors around. In Jina framework, a lot of that is done for me. But I still ned to build a Flow using Executors explicitly. What are the Jina analogies for the processes I'm using in memery?\n",
    "\n",
    "\n",
    "- Index flow:\n",
    "   - Get location of files\n",
    "   - Get device (GPU/CPU)\n",
    "\n",
    "   - Get image files recursively from root\n",
    "   - Read saved files\n",
    "\n",
    "   - Find new/changed files\n",
    "\n",
    "   - Transform and batch new files\n",
    "   - Encode new files\n",
    "\n",
    "   - Update database w new files\n",
    "   - Index all files\n",
    "   - Save database to archive\n",
    "\n",
    "   - Return savefile\n",
    "\n",
    "- Query flow:\n",
    "   - Start timer\n",
    "   - Get location of files\n",
    "   - Get device (GPU/CPU)\n",
    "   \n",
    "   - Read database\n",
    "   - Load index\n",
    "   - Check if files changed from database\n",
    "     - Index database if changed\n",
    "   \n",
    "   - Check for image/text query\n",
    "   - Encode query\n",
    "     - Add query encodings if multiple\n",
    "   \n",
    "   - Index top_k by query\n",
    "   - Get filenames from index\n",
    "   \n",
    "   - Return filenames\n",
    "   \n",
    "In hindsight, I should have not put indexing flow inside of querying flow. Or at least put it behind a toggle. With Jina this shouldn't be an issue -- different flows have their own endpoints, and client and server apps will be separate concerns.\n",
    "\n",
    "So a lot of this really has to do with tracking the files in the filesystem. That's good when you're dealing with one local folder, but it doesn't scale well. I want to use a known database system, either a file-based one or a full relational db server. Jina has Storage executors for this function, with CRUD endpoints built in.\n",
    "\n",
    "There's also a lot of steps dealing with transforming the inputs to a PyTorch format for CLIP to deal with. There are already CLIP preprocessing and encoding executors.\n",
    "\n",
    "Finally there's indexing and tree-building. A good chunk of that is done within Indexer executors, so that should be pretty simple. After that it's all frontend design.\n",
    "\n",
    "I'll build the index flow first, populate a test index, then build a query flow that only tests it. Tying the indexing into the query optionally can come later.\n",
    "\n",
    "Before building the flow, I'll want to test each Executor and make sure their inputs and outputs line up."
   ]
  },
  {
   "cell_type": "code",
   "execution_count": null,
   "metadata": {},
   "outputs": [],
   "source": [
    "from jina import Document, DocumentArray, Executor, Flow, requests\n",
    "from pathlib import Path\n",
    "import torch"
   ]
  },
  {
   "cell_type": "markdown",
   "metadata": {},
   "source": [
    "## Index flow\n",
    "   - Get location of files\n",
    "   - Get device (GPU/CPU)\n",
    "   \n",
    "This is still pretty straightforward. Finding the path we're supposed to search is still necessary, even if the embeddings are actually kept in a database."
   ]
  },
  {
   "cell_type": "code",
   "execution_count": null,
   "metadata": {},
   "outputs": [],
   "source": [
    "path = './images/memes'"
   ]
  },
  {
   "cell_type": "code",
   "execution_count": null,
   "metadata": {},
   "outputs": [],
   "source": [
    "root = Path(path)\n",
    "device = torch.device(\"cuda\" if torch.cuda.is_available() else \"cpu\")\n"
   ]
  },
  {
   "cell_type": "markdown",
   "metadata": {},
   "source": [
    "### Loader\n",
    "\n",
    "- Get image files recursively from root\n",
    "   - Read saved files\n",
    "   - Find new/changed files\n",
    "\n",
    "This is where the Storage executor will eventually come in. Right now I'm going to pull all the files anew."
   ]
  },
  {
   "cell_type": "code",
   "execution_count": null,
   "metadata": {},
   "outputs": [],
   "source": [
    "from memery.loader import get_image_files, verify_image"
   ]
  },
  {
   "cell_type": "code",
   "execution_count": null,
   "metadata": {},
   "outputs": [],
   "source": [
    "from jina.types.document.generators import from_files"
   ]
  },
  {
   "cell_type": "code",
   "execution_count": null,
   "metadata": {},
   "outputs": [
    {
     "name": "stderr",
     "output_type": "stream",
     "text": [
      "84it [00:00, 55024.45it/s]"
     ]
    },
    {
     "name": "stdout",
     "output_type": "stream",
     "text": [
      "Skipping bad file: images/memes/corrupted-file.jpeg\n",
      "due to <class 'PIL.UnidentifiedImageError'>\n",
      "Skipping bad file: images/memes/.ipynb_checkpoints/corrupted-file-checkpoint.jpeg\n",
      "due to <class 'PIL.UnidentifiedImageError'>\n"
     ]
    },
    {
     "name": "stderr",
     "output_type": "stream",
     "text": [
      "\n"
     ]
    }
   ],
   "source": [
    "files_list = [str(o[0].resolve()) for o in get_image_files(root) if verify_image(o[0])]\n",
    "# files_list"
   ]
  },
  {
   "cell_type": "code",
   "execution_count": null,
   "metadata": {},
   "outputs": [],
   "source": [
    "docs = DocumentArray(from_files(files_list))"
   ]
  },
  {
   "cell_type": "code",
   "execution_count": null,
   "metadata": {},
   "outputs": [
    {
     "data": {
      "text/plain": [
       "<jina.types.arrays.document.DocumentArray length=81 at 140219451978320>"
      ]
     },
     "execution_count": null,
     "metadata": {},
     "output_type": "execute_result"
    }
   ],
   "source": [
    "docs"
   ]
  },
  {
   "cell_type": "markdown",
   "metadata": {},
   "source": [
    "### Encoder\n",
    "- Transform and batch new files\n",
    "   - Encode new files\n",
    "   \n",
    "For this process we use the Flow to batch things through. Copying some code here from [AlexCG's meme search repo](https://github.com/alexcg1/jina-meme-search/blob/168e0f2ca6b4a34e3db730e2439cc61a0162e020/backend-image/app.py) to play with"
   ]
  },
  {
   "cell_type": "code",
   "execution_count": null,
   "metadata": {},
   "outputs": [],
   "source": [
    "class UriToBlob(Executor):\n",
    "    @requests\n",
    "    def uri_to_blob(self, docs, **kwargs):\n",
    "        for doc in docs:\n",
    "            doc.tags[\"uri\"] = doc.uri\n",
    "            doc.tags[\"uri_absolute\"] = str(Path(doc.uri).resolve())\n",
    "            doc.convert_image_uri_to_blob()"
   ]
  },
  {
   "cell_type": "code",
   "execution_count": null,
   "metadata": {},
   "outputs": [],
   "source": [
    "WORKSPACE_DIR = \"workspace\"\n",
    "\n",
    "index_flow = (\n",
    "    Flow()\n",
    "    .add(\n",
    "        uses=UriToBlob, \n",
    "        name=\"processor\",\n",
    "#         needs=\"gateway\"\n",
    "        ) # Embed image in doc, not just filename\n",
    "    .add(\n",
    "        uses=\"jinahub://ImageNormalizer\",\n",
    "        uses_with={\"target_size\": 96},\n",
    "        name=\"image_normalizer\",\n",
    "    )\n",
    "    .add(\n",
    "        uses=\"jinahub+docker://CLIPImageEncoder\",\n",
    "        uses_metas={\"workspace\": WORKSPACE_DIR},\n",
    "#         uses_with={'device': 'cuda'}, gpus='all',\n",
    "        name=\"meme_image_encoder\",\n",
    "        volumes='./data:/encoder/data',\n",
    "        \n",
    "    )\n",
    "    .add(\n",
    "        uses=\"jinahub://SimpleIndexer/old\",\n",
    "        uses_with={\"index_file_name\": \"index\"},\n",
    "        uses_metas={\"workspace\": WORKSPACE_DIR},\n",
    "        name=\"meme_image_simple_indexer\",\n",
    "        volumes=f\"./{WORKSPACE_DIR}:/workspace/workspace\",\n",
    "    )\n",
    ")"
   ]
  },
  {
   "cell_type": "code",
   "execution_count": null,
   "metadata": {},
   "outputs": [
    {
     "data": {
      "text/html": [
       "<img src=\"https://mermaid.ink/svg/JSV7aW5pdDogeyd0aGVtZSc6ICdiYXNlJywgJ3RoZW1lVmFyaWFibGVzJzogeyAncHJpbWFyeUNvbG9yJzogJyMzMkM4Q0QnLCAnZWRnZUxhYmVsQmFja2dyb3VuZCc6JyNmZmYnLCAnY2x1c3RlckJrZyc6ICcjRkZDQzY2J319fSUlCmdyYXBoIExSCmdhdGV3YXkoImdhdGV3YXkiKTo6OkdBVEVXQVkgLS0+IHByb2Nlc3NvcigicHJvY2Vzc29yPGJyPihVcmlUb0Jsb2IpIik6OjpQT0QKcHJvY2Vzc29yKCJwcm9jZXNzb3I8YnI+KFVyaVRvQmxvYikiKTo6OlBPRCAtLT4gaW1hZ2Vfbm9ybWFsaXplcigiaW1hZ2Vfbm9ybWFsaXplcjxicj4oamluYWh1YjovL0ltYWdlTm9ybWFsaXplcikiKTo6OlBPRAppbWFnZV9ub3JtYWxpemVyKCJpbWFnZV9ub3JtYWxpemVyPGJyPihqaW5haHViOi8vSW1hZ2VOb3JtYWxpemVyKSIpOjo6UE9EIC0tPiBtZW1lX2ltYWdlX2VuY29kZXIoIm1lbWVfaW1hZ2VfZW5jb2Rlcjxicj4oamluYWh1Yitkb2NrZXI6Ly9DTElQSW1hZ2VFbmNvZGVyKSIpOjo6UE9ECm1lbWVfaW1hZ2VfZW5jb2RlcigibWVtZV9pbWFnZV9lbmNvZGVyPGJyPihqaW5haHViK2RvY2tlcjovL0NMSVBJbWFnZUVuY29kZXIpIik6OjpQT0QgLS0+IG1lbWVfaW1hZ2Vfc2ltcGxlX2luZGV4ZXIoIm1lbWVfaW1hZ2Vfc2ltcGxlX2luZGV4ZXI8YnI+KGppbmFodWI6Ly9TaW1wbGVJbmRleGVyL29sZCkiKTo6OlBPRAptZW1lX2ltYWdlX3NpbXBsZV9pbmRleGVyKCJtZW1lX2ltYWdlX3NpbXBsZV9pbmRleGVyPGJyPihqaW5haHViOi8vU2ltcGxlSW5kZXhlci9vbGQpIik6OjpQT0QgLS0+IGdhdGV3YXlfRU5EKGdhdGV3YXkpOjo6R0FURVdBWQpjbGFzc0RlZiBQT0QgZmlsbDojMzJDOENELHN0cm9rZTojMDA5OTk5CmNsYXNzRGVmIElOU1BFQ1QgZmlsbDojZmY2NjY2LGNvbG9yOiNmZmYKY2xhc3NEZWYgSk9JTl9JTlNQRUNUIGZpbGw6I2ZmNjY2Nixjb2xvcjojZmZmCmNsYXNzRGVmIEdBVEVXQVkgZmlsbDojNkU3Mjc4LGNvbG9yOiNmZmYKY2xhc3NEZWYgSU5TUEVDVF9BVVhfUEFTUyBmaWxsOiNmZmYsY29sb3I6IzAwMCxzdHJva2UtZGFzaGFycmF5OiA1IDUKY2xhc3NEZWYgcGVhIGZpbGw6IzAwOTk5OSxzdHJva2U6IzFFNkU3Mw==\"/>"
      ],
      "text/plain": [
       "<IPython.core.display.Image object>"
      ]
     },
     "metadata": {},
     "output_type": "display_data"
    }
   ],
   "source": [
    "index_flow"
   ]
  },
  {
   "cell_type": "code",
   "execution_count": null,
   "metadata": {},
   "outputs": [
    {
     "data": {
      "text/html": [
       "<pre style=\"white-space:pre;overflow-x:auto;line-height:normal;font-family:Menlo,'DejaVu Sans Mono',consolas,'Courier New',monospace\"></pre>\n"
      ],
      "text/plain": []
     },
     "metadata": {},
     "output_type": "display_data"
    },
    {
     "data": {
      "application/vnd.jupyter.widget-view+json": {
       "model_id": "",
       "version_major": 2,
       "version_minor": 0
      },
      "text/plain": [
       "Output()"
      ]
     },
     "metadata": {},
     "output_type": "display_data"
    },
    {
     "data": {
      "text/html": [
       "<pre style=\"white-space:pre;overflow-x:auto;line-height:normal;font-family:Menlo,'DejaVu Sans Mono',consolas,'Courier New',monospace\"></pre>\n"
      ],
      "text/plain": []
     },
     "metadata": {},
     "output_type": "display_data"
    },
    {
     "data": {
      "text/html": [
       "<pre style=\"white-space:pre;overflow-x:auto;line-height:normal;font-family:Menlo,'DejaVu Sans Mono',consolas,'Courier New',monospace\"></pre>\n"
      ],
      "text/plain": []
     },
     "metadata": {},
     "output_type": "display_data"
    },
    {
     "name": "stderr",
     "output_type": "stream",
     "text": [
      "\u001b[1;33mUserWarning: It looks like you are trying to import multiple python modules using `py_modules`. When using multiple python files to define an executor, the recommended practice is to structure the files in a python package, and only import the `__init__.py` file of that package. For more details, please check out the cookbook: https://docs.jina.ai/fundamentals/executor/repository-structure/\u001b[0m \u001b[1;30m(raised from /home/mage/.local/lib/python3.7/site-packages/jina/jaml/helper.py:243)\u001b[0m\n",
      "\u001b[1;33mUserWarning: \n",
      "            simple_indexer shadows one of built-in Python module name.\n",
      "            It is imported as `user_module.simple_indexer`\n",
      "\n",
      "            Affects:\n",
      "            - Either, change your code from using `from simple_indexer import ...`\n",
      "              to `from user_module.simple_indexer import ...`\n",
      "            - Or, rename simple_indexer to another name\n",
      "            \u001b[0m \u001b[1;30m(raised from /home/mage/.local/lib/python3.7/site-packages/jina/importer.py:120)\u001b[0m\n"
     ]
    },
    {
     "name": "stdout",
     "output_type": "stream",
     "text": [
      "\u001b[32m⠴\u001b[0m 4/5 waiting \u001b[33mmeme_image_encoder\u001b[0m to be ready...                                   meme_image_encoder@400197[I]:\u001b[0m\n",
      "meme_image_encoder@400197[I]:\u001b[38;5;15mMMMMMMMMMMMMMMMMMMMMMMMMMMMMMM\u001b[38;5;224mM\u001b[38;5;223mM\u001b[38;5;222mWWW\u001b[38;5;223mMM\u001b[38;5;15mMMMMMMMMMMMMMMMMMMMMMMMMMMMMMMMMMMMMMMMMMMM\u001b[0;0m\u001b[0m\n",
      "meme_image_encoder@400197[I]:\u001b[38;5;15mMMMMMMMMMMMMMMMMMMMMMMMMMMMMM\u001b[38;5;222mWNNNNNNNW\u001b[38;5;230mM\u001b[38;5;15mMMMMMMMMMMMMMMMMMMMMMMMMMMMMMMMMMMMMMMMMM\u001b[0;0m\u001b[0m\n",
      "meme_image_encoder@400197[I]:\u001b[38;5;15mMMMMMMMMMMMMMMMMMMMMMMMMMMMM\u001b[38;5;223mM\u001b[38;5;222mNNNNNNNNN\u001b[38;5;223mM\u001b[38;5;15mMMMMMMMMMMMMMMMMMMMMMMMMMMMMMMMMMMMMMMMMM\u001b[0;0m\u001b[0m\n",
      "meme_image_encoder@400197[I]:\u001b[38;5;15mMMMMMMMMMMMMMMMMMMMMMMMMMMMM\u001b[38;5;230mM\u001b[38;5;222mWNNNNNNNN\u001b[38;5;223mM\u001b[38;5;15mMMMMMMMMMMMMMMMMMMMMMMMMMMMMMMMMMMMMMMMMM\u001b[0;0m\u001b[0m\n",
      "meme_image_encoder@400197[I]:\u001b[38;5;15mMMMMMMMMMMMMMMMMMMMMMMMMMMMMM\u001b[38;5;230mM\u001b[38;5;223mM\u001b[38;5;222mWNNNW\u001b[38;5;223mW\u001b[38;5;230mM\u001b[38;5;15mMMMMMMMMMMMMMMMMMMMMMMMMMMMMMMMMMMMMMMMMMM\u001b[0;0m\u001b[0m\n",
      "meme_image_encoder@400197[I]:\u001b[38;5;15mMMMMMMMMMMMMMMMMMMMMMMMMMMMMMMMM\u001b[38;5;230mMMM\u001b[38;5;15mMMMMMMMMMMMMMMMMMMMMMMMMMMMMMMMMMMMMMMMMMMMMM\u001b[0;0m\u001b[0m\n",
      "meme_image_encoder@400197[I]:\u001b[38;5;15mMMMMMMMMMMMM\u001b[38;5;253mW\u001b[38;5;73mxxxxxxxxx\u001b[38;5;109mO\u001b[38;5;15mMMMMM\u001b[38;5;152mN\u001b[38;5;73mxxxxxxxxx\u001b[38;5;110m0\u001b[38;5;15mMMMMM\u001b[38;5;152mK\u001b[38;5;73mddddddx\u001b[38;5;109mk\u001b[38;5;116mK\u001b[38;5;253mW\u001b[38;5;15mMMMMMMMMMMM\u001b[38;5;255mM\u001b[38;5;152mX\u001b[38;5;109mO\u001b[38;5;73mxd\u001b[38;5;67md\u001b[38;5;73mdx\u001b[38;5;109mO\u001b[38;5;152mN\u001b[38;5;255mM\u001b[38;5;15mMMM\u001b[0;0m\u001b[0m\n",
      "meme_image_encoder@400197[I]:\u001b[38;5;15mMMMMMMMMMMMM\u001b[38;5;152mX\u001b[38;5;66mlllllllll\u001b[38;5;73md\u001b[38;5;15mMMMMM\u001b[38;5;110m0\u001b[38;5;66mlllllllll\u001b[38;5;73mx\u001b[38;5;15mMMMMM\u001b[38;5;109mO\u001b[38;5;66mllllllllll\u001b[38;5;67mo\u001b[38;5;109m0\u001b[38;5;255mM\u001b[38;5;15mMMMMMM\u001b[38;5;255mM\u001b[38;5;109m0\u001b[38;5;67mo\u001b[38;5;66mlllllllll\u001b[38;5;67mo\u001b[38;5;109m0\u001b[38;5;255mM\u001b[38;5;15mM\u001b[0;0m\u001b[0m\n",
      "meme_image_encoder@400197[I]:\u001b[38;5;15mMMMMMMMMMMMM\u001b[38;5;152mX\u001b[38;5;66mlllllllll\u001b[38;5;73md\u001b[38;5;15mMMMMM\u001b[38;5;110m0\u001b[38;5;66mlllllllll\u001b[38;5;73mx\u001b[38;5;15mMMMMM\u001b[38;5;109mO\u001b[38;5;66mllllllllllll\u001b[38;5;67mo\u001b[38;5;152mW\u001b[38;5;15mMMMM\u001b[38;5;255mM\u001b[38;5;73md\u001b[38;5;66mlllllllllllll\u001b[38;5;73md\u001b[38;5;255mM\u001b[0;0m\u001b[0m\n",
      "meme_image_encoder@400197[I]:\u001b[38;5;15mMMMMMMMMMMMM\u001b[38;5;152mX\u001b[38;5;66mlllllllll\u001b[38;5;73md\u001b[38;5;15mMMMMM\u001b[38;5;110m0\u001b[38;5;66mlllllllll\u001b[38;5;73mx\u001b[38;5;15mMMMMM\u001b[38;5;109mO\u001b[38;5;66mlllllllllllll\u001b[38;5;67mo\u001b[38;5;254mM\u001b[38;5;15mMMM\u001b[38;5;110m0\u001b[38;5;66mlllllllllllllll\u001b[38;5;152mK\u001b[0;0m\u001b[0m\n",
      "meme_image_encoder@400197[I]:\u001b[38;5;15mMMMMMMMMMMMM\u001b[38;5;152mK\u001b[38;5;66mlllllllll\u001b[38;5;73md\u001b[38;5;15mMMMMM\u001b[38;5;110m0\u001b[38;5;66mlllllllll\u001b[38;5;73mx\u001b[38;5;15mMMMMM\u001b[38;5;109mO\u001b[38;5;66mllllllllllllll\u001b[38;5;152mK\u001b[38;5;15mMMM\u001b[38;5;109m0\u001b[38;5;66mlllllllllllllll\u001b[38;5;109mO\u001b[0;0m\u001b[0m\n",
      "meme_image_encoder@400197[I]:\u001b[38;5;15mMMM\u001b[38;5;255mM\u001b[38;5;224mMMM\u001b[38;5;15mMMMMM\u001b[38;5;152mK\u001b[38;5;66mlllllllll\u001b[38;5;73md\u001b[38;5;15mMMMMM\u001b[38;5;110m0\u001b[38;5;66mlllllllll\u001b[38;5;73mx\u001b[38;5;15mMMMMM\u001b[38;5;109mO\u001b[38;5;66mllllllllllllll\u001b[38;5;110m0\u001b[38;5;15mMMM\u001b[38;5;254mM\u001b[38;5;67mo\u001b[38;5;66mllllllllllllll\u001b[38;5;109mO\u001b[0;0m\u001b[0m\n",
      "meme_image_encoder@400197[I]:\u001b[38;5;15mM\u001b[38;5;223mW\u001b[38;5;210mOkkkkk\u001b[38;5;216m0\u001b[38;5;224mM\u001b[38;5;15mMM\u001b[38;5;152mK\u001b[38;5;66mlllllllll\u001b[38;5;109mk\u001b[38;5;15mMMMMM\u001b[38;5;110m0\u001b[38;5;66mlllllllll\u001b[38;5;73mx\u001b[38;5;15mMMMMM\u001b[38;5;109mO\u001b[38;5;66mllllllllllllll\u001b[38;5;110m0\u001b[38;5;15mMMMM\u001b[38;5;188mM\u001b[38;5;73mx\u001b[38;5;66mlllllllllllll\u001b[38;5;109mO\u001b[0;0m\u001b[0m\n",
      "meme_image_encoder@400197[I]:\u001b[38;5;217mN\u001b[38;5;210mkkkkkkkkk\u001b[38;5;224mM\u001b[38;5;15mM\u001b[38;5;152mK\u001b[38;5;66mllllllll\u001b[38;5;67mo\u001b[38;5;254mM\u001b[38;5;15mMMMMM\u001b[38;5;110m0\u001b[38;5;66mlllllllll\u001b[38;5;73mx\u001b[38;5;15mMMMMM\u001b[38;5;109mO\u001b[38;5;66mllllllllllllll\u001b[38;5;110m0\u001b[38;5;15mMMMMMM\u001b[38;5;253mW\u001b[38;5;109mO\u001b[38;5;73md\u001b[38;5;66molllllllll\u001b[38;5;109mO\u001b[0;0m\u001b[0m\n",
      "meme_image_encoder@400197[I]:\u001b[38;5;217mK\u001b[38;5;210mkkkkkkkkk\u001b[38;5;217mN\u001b[38;5;15mM\u001b[38;5;152mK\u001b[38;5;66mlllllll\u001b[38;5;73md\u001b[38;5;188mM\u001b[38;5;15mMMMMMMM\u001b[38;5;188mWWWWWWWWW\u001b[38;5;255mM\u001b[38;5;15mMMMMMM\u001b[38;5;254mMMMMMMMMMMMMMM\u001b[38;5;15mMMMMMMMMMMM\u001b[38;5;255mMMMMMMMMM\u001b[38;5;15mM\u001b[0;0m\u001b[0m\n",
      "meme_image_encoder@400197[I]:\u001b[38;5;224mM\u001b[38;5;210mOkkkkkkk\u001b[38;5;180m0\u001b[38;5;15mMM\u001b[38;5;152mK\u001b[38;5;66mlllll\u001b[38;5;73md\u001b[38;5;152mX\u001b[38;5;15mMMMMMMMMMMMMMMMMMMMMMMMMMMMMMMMMMMMMMMMMMMMMMMMMMMMMMMMMMMMM\u001b[0;0m\u001b[0m\n",
      "meme_image_encoder@400197[I]:\u001b[38;5;15mMM\u001b[38;5;224mW\u001b[38;5;217mX\u001b[38;5;216m0\u001b[38;5;210m0\u001b[38;5;217mKX\u001b[38;5;224mM\u001b[38;5;15mMMM\u001b[38;5;152mX\u001b[38;5;73mx\u001b[38;5;109mk0\u001b[38;5;152mX\u001b[38;5;254mM\u001b[38;5;15mMMMMMMMMMMMMMMMMMMMMMMMMMMMMMMMMMMMMMMMMMMMMMMMMMMMMMMMMMMMMMM\u001b[0;0m\u001b[0m\n",
      "meme_image_encoder@400197[I]:\u001b[0m\n",
      "meme_image_encoder@400197[I]:▶️  /usr/local/bin/jina executor --uses config.yml --name meme_image_encoder --workspace /home/mage/Hacking/projects/memery --identity 393c7bcb-49f2-4cf4-b714-e7c8413f75f3 --workspace-id 48af8d99-6414-49cf-8745-c3076eadfdd8 --zmq-identity dbd3aa19-d75d-4a3e-b456-e004d6e75459 --port-ctrl 37219 --uses-metas {\"workspace\": \"workspace\"} --port-in 40887 --port-out 53423 --hosts-in-connect --socket-in ROUTER_BIND --socket-out ROUTER_BIND --native --num-part 1 --dynamic-routing-out --dynamic-routing-in --runs-in-docker --upload-files --noblock-on-start\u001b[0m\n",
      "meme_image_encoder@400197[I]:🔧️ \u001b[43m\u001b[34m                           cli = executor                      \u001b[0m\u001b[0m\n",
      "meme_image_encoder@400197[I]:ctrl-with-ipc = False\u001b[0m\n",
      "meme_image_encoder@400197[I]:daemon = False\u001b[0m\n",
      "meme_image_encoder@400197[I]:disable-remote = False\u001b[0m\n",
      "meme_image_encoder@400197[I]:docker-kwargs = None\u001b[0m\n",
      "meme_image_encoder@400197[I]:dump-path =\u001b[0m\n",
      "meme_image_encoder@400197[I]:🔧️ \u001b[43m\u001b[34m            dynamic-routing-in = True                          \u001b[0m\u001b[0m\n",
      "meme_image_encoder@400197[I]:🔧️ \u001b[43m\u001b[34m           dynamic-routing-out = True                          \u001b[0m\u001b[0m\n",
      "meme_image_encoder@400197[I]:entrypoint = None\u001b[0m\n",
      "meme_image_encoder@400197[I]:env = None\u001b[0m\n",
      "meme_image_encoder@400197[I]:expose-public = False\u001b[0m\n",
      "meme_image_encoder@400197[I]:force = False\u001b[0m\n",
      "meme_image_encoder@400197[I]:gpus = None\u001b[0m\n",
      "meme_image_encoder@400197[I]:grpc-data-requests = False\u001b[0m\n",
      "meme_image_encoder@400197[I]:host = 0.0.0.0\u001b[0m\n",
      "meme_image_encoder@400197[I]:host-in = 0.0.0.0\u001b[0m\n",
      "meme_image_encoder@400197[I]:host-out = 0.0.0.0\u001b[0m\n",
      "meme_image_encoder@400197[I]:🔧️ \u001b[43m\u001b[34m              hosts-in-connect = []                            \u001b[0m\u001b[0m\n",
      "meme_image_encoder@400197[I]:🔧️ \u001b[43m\u001b[34m                      identity = 393c7bcb-49f2-4cf4-b714-e7c841\u001b[0m\u001b[0m\n",
      "meme_image_encoder@400197[I]:install-requirements = False\u001b[0m\n",
      "meme_image_encoder@400197[I]:log-config = /usr/local/lib/python3.8/site-\u001b[0m\n",
      "meme_image_encoder@400197[I]:memory-hwm = -1\u001b[0m\n",
      "meme_image_encoder@400197[I]:🔧️ \u001b[43m\u001b[34m                          name = meme_image_encoder            \u001b[0m\u001b[0m\n",
      "meme_image_encoder@400197[I]:🔧️ \u001b[43m\u001b[34m                        native = True                          \u001b[0m\u001b[0m\n",
      "meme_image_encoder@400197[I]:🔧️ \u001b[43m\u001b[34m              noblock-on-start = True                          \u001b[0m\u001b[0m\n",
      "meme_image_encoder@400197[I]:🔧️ \u001b[43m\u001b[34m                      num-part = 1                             \u001b[0m\u001b[0m\n",
      "meme_image_encoder@400197[I]:on-error-strategy = IGNORE\u001b[0m\n",
      "meme_image_encoder@400197[I]:pea-id = 0\u001b[0m\n",
      "meme_image_encoder@400197[I]:pea-role = SINGLETON\u001b[0m\n",
      "meme_image_encoder@400197[I]:🔧️ \u001b[43m\u001b[34m                     port-ctrl = 37219                         \u001b[0m\u001b[0m\n",
      "meme_image_encoder@400197[I]:🔧️ \u001b[43m\u001b[34m                       port-in = 40887                         \u001b[0m\u001b[0m\n",
      "meme_image_encoder@400197[I]:port-jinad = 8000\u001b[0m\n",
      "meme_image_encoder@400197[I]:🔧️ \u001b[43m\u001b[34m                      port-out = 53423                         \u001b[0m\u001b[0m\n",
      "meme_image_encoder@400197[I]:pull-latest = False\u001b[0m\n",
      "meme_image_encoder@400197[I]:py-modules = None\u001b[0m\n",
      "meme_image_encoder@400197[I]:quiet = False\u001b[0m\n",
      "meme_image_encoder@400197[I]:quiet-error = False\u001b[0m\n",
      "meme_image_encoder@400197[I]:quiet-remote-logs = False\u001b[0m\n",
      "meme_image_encoder@400197[I]:routing-table = None\u001b[0m\n",
      "meme_image_encoder@400197[I]:🔧️ \u001b[43m\u001b[34m                runs-in-docker = True                          \u001b[0m\u001b[0m\n",
      "meme_image_encoder@400197[I]:runtime-backend = PROCESS\u001b[0m\n",
      "meme_image_encoder@400197[I]:runtime-cls = ZEDRuntime\u001b[0m\n",
      "meme_image_encoder@400197[I]:🔧️ \u001b[43m\u001b[34m                     socket-in = ROUTER_BIND                   \u001b[0m\u001b[0m\n",
      "meme_image_encoder@400197[I]:🔧️ \u001b[43m\u001b[34m                    socket-out = ROUTER_BIND                   \u001b[0m\u001b[0m\n",
      "meme_image_encoder@400197[I]:ssh-keyfile = None\u001b[0m\n",
      "meme_image_encoder@400197[I]:ssh-password = None\u001b[0m\n",
      "meme_image_encoder@400197[I]:ssh-server = None\u001b[0m\n",
      "meme_image_encoder@400197[I]:static-routing-table = False\u001b[0m\n",
      "meme_image_encoder@400197[I]:timeout-ctrl = 5000\u001b[0m\n",
      "meme_image_encoder@400197[I]:timeout-ready = 600000\u001b[0m\n",
      "meme_image_encoder@400197[I]:🔧️ \u001b[43m\u001b[34m                  upload-files = []                            \u001b[0m\u001b[0m\n",
      "meme_image_encoder@400197[I]:🔧️ \u001b[43m\u001b[34m                          uses = config.yml                    \u001b[0m\u001b[0m\n",
      "meme_image_encoder@400197[I]:🔧️ \u001b[43m\u001b[34m                    uses-metas = {'workspace': 'workspace'}    \u001b[0m\u001b[0m\n",
      "meme_image_encoder@400197[I]:uses-requests = None\u001b[0m\n",
      "meme_image_encoder@400197[I]:uses-with = None\u001b[0m\n",
      "meme_image_encoder@400197[I]:volumes = None\u001b[0m\n",
      "meme_image_encoder@400197[I]:🔧️ \u001b[43m\u001b[34m                     workspace = /home/mage/Hacking/projects/me\u001b[0m\u001b[0m\n",
      "meme_image_encoder@400197[I]:🔧️ \u001b[43m\u001b[34m                  workspace-id = 48af8d99-6414-49cf-8745-c3076e\u001b[0m\u001b[0m\n",
      "meme_image_encoder@400197[I]:🔧️ \u001b[43m\u001b[34m                  zmq-identity = dbd3aa19-d75d-4a3e-b456-e004d6\u001b[0m\u001b[0m\n",
      "meme_image_encoder@400197[I]:\u001b[0m\n",
      "meme_image_encoder@400197[I]:\u001b[33m           JINA@ 1[W]:You are using Jina version 2.1.4, however version 2.1.7 is available. You should consider upgrading via the \"pip install --upgrade jina\" command.\u001b[0m\u001b[0m\n",
      "meme_image_encoder@400197[I]:\u001b[1;33mUserWarning: It looks like you are trying to import multiple python modules using `py_modules`. When using multiple python files to define an executor, the recommended practice is to structure the files in a python package, and only import the `__init__.py` file of that package. For more details, please check out the cookbook: https://docs.jina.ai/fundamentals/executor/repository-structure/\u001b[0m \u001b[1;30m(raised from /usr/local/lib/python3.8/site-packages/jina/jaml/helper.py:242)\u001b[0m\u001b[0m\n",
      "meme_image_encoder@400197[I]:\u001b[1;33mUserWarning:\u001b[0m\n",
      "meme_image_encoder@400197[I]:clip_image shadows one of built-in Python module name.\u001b[0m\n",
      "meme_image_encoder@400197[I]:It is imported as `user_module.clip_image`\u001b[0m\n",
      "meme_image_encoder@400197[I]:\u001b[0m\n",
      "meme_image_encoder@400197[I]:Affects:\u001b[0m\n",
      "meme_image_encoder@400197[I]:- Either, change your code from using `from clip_image import ...`\u001b[0m\n",
      "meme_image_encoder@400197[I]:to `from user_module.clip_image import ...`\u001b[0m\n",
      "meme_image_encoder@400197[I]:- Or, rename clip_image to another name\u001b[0m\n",
      "meme_image_encoder@400197[I]:\u001b[0m \u001b[1;30m(raised from /usr/local/lib/python3.8/site-packages/jina/importer.py:111)\u001b[0m\u001b[0m\n",
      "Downloading: 100%|██████████| 316/316 [00:00<00:00, 133kB/s]\u001b[0m316 [00:00<?, ?B/s]\n",
      "Downloading: 100%|██████████| 3.98k/3.98k [00:00<00:00, 2.25MB/s]\u001b[0m [00:00<?, ?B/s]\n",
      "Downloading:  29%|██▊       | 173M\u001b[0mM [00:28<01:10, 6.18MB/s] 605M [00:00<?, ?B/s]\n",
      "Downloadin\u001b[0m56%|█████▋    | 341M/605M [00:56<00:44, 5.98MB/s]\n",
      "Downloading:  83%|██████\u001b[0m| 500M/605M [01:21<00:14, 7.09MB/s]56<00:48, 5.50MB/s]\n",
      "meme_image_encoder@400197[I]:\u001b[32mmeme_image_encoder@ 1[L]: Executor CLIPImageEncoder started\u001b[0m\u001b[0m\n",
      "           Flow@400139[I]:\u001b[32m🎉 Flow is ready to use!\u001b[0m                                         \n",
      "\t🔗 Protocol: \t\t\u001b[1mGRPC\u001b[0m\n",
      "\t🏠 Local access:\t\u001b[4m\u001b[36m0.0.0.0:60563\u001b[0m\n",
      "\t🔒 Private network:\t\u001b[4m\u001b[36m192.168.0.5:60563\u001b[0m\n",
      "\t🌐 Public address:\t\u001b[4m\u001b[36m67.0.89.19\n",
      ":60563\u001b[0m\u001b[0m\n",
      "Downloading: 100%|██████████| 605M/605M [01:38<00:00, 6.14MB/s]\u001b[0m]\n"
     ]
    }
   ],
   "source": [
    "# # def index():\n",
    "# if Path(WORKSPACE_DIR).exists():\n",
    "#     print(f\"'{WORKSPACE_DIR}' folder exists. Please delete\")\n",
    "#     sys.exit\n",
    "    \n",
    "docs = DocumentArray(from_files(files_list))\n",
    "\n",
    "with index_flow:\n",
    "    index_flow.index(inputs=docs, return_results=True)\n"
   ]
  },
  {
   "cell_type": "code",
   "execution_count": null,
   "metadata": {},
   "outputs": [],
   "source": [
    "# index_flow.protocol = \"http\"\n",
    "# index_flow.port_expose = 12345\n",
    "\n",
    "# with index_flow:\n",
    "#     index_flow.block()\n"
   ]
  },
  {
   "cell_type": "markdown",
   "metadata": {},
   "source": [
    "   - Update database w new files\n",
    "   - Index all files\n",
    "   - Save database to archive\n",
    "\n",
    "   - Return savefile"
   ]
  },
  {
   "cell_type": "markdown",
   "metadata": {},
   "source": [
    "## Query flow\n",
    "\n",
    "- Query flow:\n",
    "   - Start timer\n",
    "   - Get location of files\n",
    "   - Get device (GPU/CPU)\n",
    "   \n",
    "   - Read database\n",
    "   - Load index\n",
    "   - Check if files changed from database\n",
    "     - Index database if changed\n",
    "   \n",
    "   - Check for image/text query\n",
    "   - Encode query\n",
    "     - Add query encodings if multiple\n",
    "   \n",
    "   - Index top_k by query\n",
    "   - Get filenames from index\n",
    "   \n",
    "   - Return filenames\n",
    "   "
   ]
  },
  {
   "cell_type": "code",
   "execution_count": null,
   "metadata": {},
   "outputs": [],
   "source": [
    "query_flow = (\n",
    "    Flow()\n",
    "    .add(\n",
    "        uses=\"jinahub+docker://CLIPTextEncoder\",\n",
    "        uses_metas={\"workspace\": WORKSPACE_DIR},\n",
    "#         uses_with={'device': 'cuda'},\n",
    "#         volumes=\"./data:/encoder/data\",\n",
    "        volumes='~/.cache/huggingface:/root/.cache/huggingface',\n",
    "        name=\"text_encoder\",\n",
    "    )\n",
    "    .add(\n",
    "        uses=\"jinahub://SimpleIndexer/old\",\n",
    "        uses_with={\"index_file_name\": \"index\"},\n",
    "        uses_metas={\"workspace\": WORKSPACE_DIR},\n",
    "        name=\"meme_image_simple_indexer\",\n",
    "        volumes=f\"./{WORKSPACE_DIR}:/workspace/workspace\",\n",
    "    )\n",
    ")"
   ]
  },
  {
   "cell_type": "code",
   "execution_count": null,
   "metadata": {},
   "outputs": [
    {
     "data": {
      "text/html": [
       "<img src=\"https://mermaid.ink/svg/JSV7aW5pdDogeyd0aGVtZSc6ICdiYXNlJywgJ3RoZW1lVmFyaWFibGVzJzogeyAncHJpbWFyeUNvbG9yJzogJyMzMkM4Q0QnLCAnZWRnZUxhYmVsQmFja2dyb3VuZCc6JyNmZmYnLCAnY2x1c3RlckJrZyc6ICcjRkZDQzY2J319fSUlCmdyYXBoIExSCmdhdGV3YXkoImdhdGV3YXkiKTo6OkdBVEVXQVkgLS0+IHRleHRfZW5jb2RlcigidGV4dF9lbmNvZGVyPGJyPihqaW5haHViK2RvY2tlcjovL0NMSVBUZXh0RW5jb2RlcikiKTo6OlBPRAp0ZXh0X2VuY29kZXIoInRleHRfZW5jb2Rlcjxicj4oamluYWh1Yitkb2NrZXI6Ly9DTElQVGV4dEVuY29kZXIpIik6OjpQT0QgLS0+IG1lbWVfaW1hZ2Vfc2ltcGxlX2luZGV4ZXIoIm1lbWVfaW1hZ2Vfc2ltcGxlX2luZGV4ZXI8YnI+KGppbmFodWI6Ly9TaW1wbGVJbmRleGVyL29sZCkiKTo6OlBPRAptZW1lX2ltYWdlX3NpbXBsZV9pbmRleGVyKCJtZW1lX2ltYWdlX3NpbXBsZV9pbmRleGVyPGJyPihqaW5haHViOi8vU2ltcGxlSW5kZXhlci9vbGQpIik6OjpQT0QgLS0+IGdhdGV3YXlfRU5EKGdhdGV3YXkpOjo6R0FURVdBWQpjbGFzc0RlZiBQT0QgZmlsbDojMzJDOENELHN0cm9rZTojMDA5OTk5CmNsYXNzRGVmIElOU1BFQ1QgZmlsbDojZmY2NjY2LGNvbG9yOiNmZmYKY2xhc3NEZWYgSk9JTl9JTlNQRUNUIGZpbGw6I2ZmNjY2Nixjb2xvcjojZmZmCmNsYXNzRGVmIEdBVEVXQVkgZmlsbDojNkU3Mjc4LGNvbG9yOiNmZmYKY2xhc3NEZWYgSU5TUEVDVF9BVVhfUEFTUyBmaWxsOiNmZmYsY29sb3I6IzAwMCxzdHJva2UtZGFzaGFycmF5OiA1IDUKY2xhc3NEZWYgcGVhIGZpbGw6IzAwOTk5OSxzdHJva2U6IzFFNkU3Mw==\"/>"
      ],
      "text/plain": [
       "<IPython.core.display.Image object>"
      ]
     },
     "metadata": {},
     "output_type": "display_data"
    }
   ],
   "source": [
    "query_flow"
   ]
  },
  {
   "cell_type": "code",
   "execution_count": null,
   "metadata": {},
   "outputs": [
    {
     "name": "stderr",
     "output_type": "stream",
     "text": [
      "\u001b[1;33mUserWarning: It looks like you are trying to import multiple python modules using `py_modules`. When using multiple python files to define an executor, the recommended practice is to structure the files in a python package, and only import the `__init__.py` file of that package. For more details, please check out the cookbook: https://docs.jina.ai/fundamentals/executor/repository-structure/\u001b[0m \u001b[1;30m(raised from /home/mage/.local/lib/python3.7/site-packages/jina/jaml/helper.py:243)\u001b[0m\n",
      "\u001b[1;33mUserWarning: \n",
      "            simple_indexer shadows one of built-in Python module name.\n",
      "            It is imported as `user_module.simple_indexer`\n",
      "\n",
      "            Affects:\n",
      "            - Either, change your code from using `from simple_indexer import ...`\n",
      "              to `from user_module.simple_indexer import ...`\n",
      "            - Or, rename simple_indexer to another name\n",
      "            \u001b[0m \u001b[1;30m(raised from /home/mage/.local/lib/python3.7/site-packages/jina/importer.py:120)\u001b[0m\n"
     ]
    },
    {
     "name": "stdout",
     "output_type": "stream",
     "text": [
      "\u001b[32m⠧\u001b[0m 2/3 waiting \u001b[33mtext_encoder\u001b[0m to be ready...                                            text_encoder@406186[I]:\u001b[0m\n",
      "   text_encoder@406186[I]:\u001b[38;5;15mMMMMMMMMMMMMMMMMMMMMMMMMMMMMMM\u001b[38;5;224mM\u001b[38;5;223mM\u001b[38;5;222mWWW\u001b[38;5;223mMM\u001b[38;5;15mMMMMMMMMMMMMMMMMMMMMMMMMMMMMMMMMMMMMMMMMMMM\u001b[0;0m\u001b[0m\n",
      "   text_encoder@406186[I]:\u001b[38;5;15mMMMMMMMMMMMMMMMMMMMMMMMMMMMMM\u001b[38;5;222mWNNNNNNNW\u001b[38;5;230mM\u001b[38;5;15mMMMMMMMMMMMMMMMMMMMMMMMMMMMMMMMMMMMMMMMMM\u001b[0;0m\u001b[0m\n",
      "   text_encoder@406186[I]:\u001b[38;5;15mMMMMMMMMMMMMMMMMMMMMMMMMMMMM\u001b[38;5;223mM\u001b[38;5;222mNNNNNNNNN\u001b[38;5;223mM\u001b[38;5;15mMMMMMMMMMMMMMMMMMMMMMMMMMMMMMMMMMMMMMMMMM\u001b[0;0m\u001b[0m\n",
      "   text_encoder@406186[I]:\u001b[38;5;15mMMMMMMMMMMMMMMMMMMMMMMMMMMMM\u001b[38;5;230mM\u001b[38;5;222mWNNNNNNNN\u001b[38;5;223mM\u001b[38;5;15mMMMMMMMMMMMMMMMMMMMMMMMMMMMMMMMMMMMMMMMMM\u001b[0;0m\u001b[0m\n",
      "   text_encoder@406186[I]:\u001b[38;5;15mMMMMMMMMMMMMMMMMMMMMMMMMMMMMM\u001b[38;5;230mM\u001b[38;5;223mM\u001b[38;5;222mWNNNW\u001b[38;5;223mW\u001b[38;5;230mM\u001b[38;5;15mMMMMMMMMMMMMMMMMMMMMMMMMMMMMMMMMMMMMMMMMMM\u001b[0;0m\u001b[0m\n",
      "   text_encoder@406186[I]:\u001b[38;5;15mMMMMMMMMMMMMMMMMMMMMMMMMMMMMMMMM\u001b[38;5;230mMMM\u001b[38;5;15mMMMMMMMMMMMMMMMMMMMMMMMMMMMMMMMMMMMMMMMMMMMMM\u001b[0;0m\u001b[0m\n",
      "   text_encoder@406186[I]:\u001b[38;5;15mMMMMMMMMMMMM\u001b[38;5;253mW\u001b[38;5;73mxxxxxxxxx\u001b[38;5;109mO\u001b[38;5;15mMMMMM\u001b[38;5;152mN\u001b[38;5;73mxxxxxxxxx\u001b[38;5;110m0\u001b[38;5;15mMMMMM\u001b[38;5;152mK\u001b[38;5;73mddddddx\u001b[38;5;109mk\u001b[38;5;116mK\u001b[38;5;253mW\u001b[38;5;15mMMMMMMMMMMM\u001b[38;5;255mM\u001b[38;5;152mX\u001b[38;5;109mO\u001b[38;5;73mxd\u001b[38;5;67md\u001b[38;5;73mdx\u001b[38;5;109mO\u001b[38;5;152mN\u001b[38;5;255mM\u001b[38;5;15mMMM\u001b[0;0m\u001b[0m\n",
      "   text_encoder@406186[I]:\u001b[38;5;15mMMMMMMMMMMMM\u001b[38;5;152mX\u001b[38;5;66mlllllllll\u001b[38;5;73md\u001b[38;5;15mMMMMM\u001b[38;5;110m0\u001b[38;5;66mlllllllll\u001b[38;5;73mx\u001b[38;5;15mMMMMM\u001b[38;5;109mO\u001b[38;5;66mllllllllll\u001b[38;5;67mo\u001b[38;5;109m0\u001b[38;5;255mM\u001b[38;5;15mMMMMMM\u001b[38;5;255mM\u001b[38;5;109m0\u001b[38;5;67mo\u001b[38;5;66mlllllllll\u001b[38;5;67mo\u001b[38;5;109m0\u001b[38;5;255mM\u001b[38;5;15mM\u001b[0;0m\u001b[0m\n",
      "   text_encoder@406186[I]:\u001b[38;5;15mMMMMMMMMMMMM\u001b[38;5;152mX\u001b[38;5;66mlllllllll\u001b[38;5;73md\u001b[38;5;15mMMMMM\u001b[38;5;110m0\u001b[38;5;66mlllllllll\u001b[38;5;73mx\u001b[38;5;15mMMMMM\u001b[38;5;109mO\u001b[38;5;66mllllllllllll\u001b[38;5;67mo\u001b[38;5;152mW\u001b[38;5;15mMMMM\u001b[38;5;255mM\u001b[38;5;73md\u001b[38;5;66mlllllllllllll\u001b[38;5;73md\u001b[38;5;255mM\u001b[0;0m\u001b[0m\n",
      "   text_encoder@406186[I]:\u001b[38;5;15mMMMMMMMMMMMM\u001b[38;5;152mX\u001b[38;5;66mlllllllll\u001b[38;5;73md\u001b[38;5;15mMMMMM\u001b[38;5;110m0\u001b[38;5;66mlllllllll\u001b[38;5;73mx\u001b[38;5;15mMMMMM\u001b[38;5;109mO\u001b[38;5;66mlllllllllllll\u001b[38;5;67mo\u001b[38;5;254mM\u001b[38;5;15mMMM\u001b[38;5;110m0\u001b[38;5;66mlllllllllllllll\u001b[38;5;152mK\u001b[0;0m\u001b[0m\n",
      "   text_encoder@406186[I]:\u001b[38;5;15mMMMMMMMMMMMM\u001b[38;5;152mK\u001b[38;5;66mlllllllll\u001b[38;5;73md\u001b[38;5;15mMMMMM\u001b[38;5;110m0\u001b[38;5;66mlllllllll\u001b[38;5;73mx\u001b[38;5;15mMMMMM\u001b[38;5;109mO\u001b[38;5;66mllllllllllllll\u001b[38;5;152mK\u001b[38;5;15mMMM\u001b[38;5;109m0\u001b[38;5;66mlllllllllllllll\u001b[38;5;109mO\u001b[0;0m\u001b[0m\n",
      "   text_encoder@406186[I]:\u001b[38;5;15mMMM\u001b[38;5;255mM\u001b[38;5;224mMMM\u001b[38;5;15mMMMMM\u001b[38;5;152mK\u001b[38;5;66mlllllllll\u001b[38;5;73md\u001b[38;5;15mMMMMM\u001b[38;5;110m0\u001b[38;5;66mlllllllll\u001b[38;5;73mx\u001b[38;5;15mMMMMM\u001b[38;5;109mO\u001b[38;5;66mllllllllllllll\u001b[38;5;110m0\u001b[38;5;15mMMM\u001b[38;5;254mM\u001b[38;5;67mo\u001b[38;5;66mllllllllllllll\u001b[38;5;109mO\u001b[0;0m\u001b[0m\n",
      "   text_encoder@406186[I]:\u001b[38;5;15mM\u001b[38;5;223mW\u001b[38;5;210mOkkkkk\u001b[38;5;216m0\u001b[38;5;224mM\u001b[38;5;15mMM\u001b[38;5;152mK\u001b[38;5;66mlllllllll\u001b[38;5;109mk\u001b[38;5;15mMMMMM\u001b[38;5;110m0\u001b[38;5;66mlllllllll\u001b[38;5;73mx\u001b[38;5;15mMMMMM\u001b[38;5;109mO\u001b[38;5;66mllllllllllllll\u001b[38;5;110m0\u001b[38;5;15mMMMM\u001b[38;5;188mM\u001b[38;5;73mx\u001b[38;5;66mlllllllllllll\u001b[38;5;109mO\u001b[0;0m\u001b[0m\n",
      "   text_encoder@406186[I]:\u001b[38;5;217mN\u001b[38;5;210mkkkkkkkkk\u001b[38;5;224mM\u001b[38;5;15mM\u001b[38;5;152mK\u001b[38;5;66mllllllll\u001b[38;5;67mo\u001b[38;5;254mM\u001b[38;5;15mMMMMM\u001b[38;5;110m0\u001b[38;5;66mlllllllll\u001b[38;5;73mx\u001b[38;5;15mMMMMM\u001b[38;5;109mO\u001b[38;5;66mllllllllllllll\u001b[38;5;110m0\u001b[38;5;15mMMMMMM\u001b[38;5;253mW\u001b[38;5;109mO\u001b[38;5;73md\u001b[38;5;66molllllllll\u001b[38;5;109mO\u001b[0;0m\u001b[0m\n",
      "   text_encoder@406186[I]:\u001b[38;5;217mK\u001b[38;5;210mkkkkkkkkk\u001b[38;5;217mN\u001b[38;5;15mM\u001b[38;5;152mK\u001b[38;5;66mlllllll\u001b[38;5;73md\u001b[38;5;188mM\u001b[38;5;15mMMMMMMM\u001b[38;5;188mWWWWWWWWW\u001b[38;5;255mM\u001b[38;5;15mMMMMMM\u001b[38;5;254mMMMMMMMMMMMMMM\u001b[38;5;15mMMMMMMMMMMM\u001b[38;5;255mMMMMMMMMM\u001b[38;5;15mM\u001b[0;0m\u001b[0m\n",
      "   text_encoder@406186[I]:\u001b[38;5;224mM\u001b[38;5;210mOkkkkkkk\u001b[38;5;180m0\u001b[38;5;15mMM\u001b[38;5;152mK\u001b[38;5;66mlllll\u001b[38;5;73md\u001b[38;5;152mX\u001b[38;5;15mMMMMMMMMMMMMMMMMMMMMMMMMMMMMMMMMMMMMMMMMMMMMMMMMMMMMMMMMMMMM\u001b[0;0m\u001b[0m\n",
      "   text_encoder@406186[I]:\u001b[38;5;15mMM\u001b[38;5;224mW\u001b[38;5;217mX\u001b[38;5;216m0\u001b[38;5;210m0\u001b[38;5;217mKX\u001b[38;5;224mM\u001b[38;5;15mMMM\u001b[38;5;152mX\u001b[38;5;73mx\u001b[38;5;109mk0\u001b[38;5;152mX\u001b[38;5;254mM\u001b[38;5;15mMMMMMMMMMMMMMMMMMMMMMMMMMMMMMMMMMMMMMMMMMMMMMMMMMMMMMMMMMMMMMM\u001b[0;0m\u001b[0m\n",
      "   text_encoder@406186[I]:\u001b[0m\n",
      "   text_encoder@406186[I]:▶️  /usr/local/bin/jina executor --uses config.yml --name text_encoder --workspace /home/mage/Hacking/projects/memery --identity 8a9c7db2-e46e-487f-8e3d-f6d042ccbacf --workspace-id ccb574fa-1872-4234-8413-768511b513ae --zmq-identity 2740de66-1141-47b2-b548-4be769a70a68 --port-ctrl 37491 --uses-metas {\"workspace\": \"workspace\"} --port-in 52317 --port-out 33455 --hosts-in-connect --socket-in ROUTER_BIND --socket-out ROUTER_BIND --native --num-part 1 --dynamic-routing-out --dynamic-routing-in --runs-in-docker --upload-files --noblock-on-start\u001b[0m\n",
      "   text_encoder@406186[I]:🔧️ \u001b[43m\u001b[34m                           cli = executor                      \u001b[0m\u001b[0m\n",
      "   text_encoder@406186[I]:ctrl-with-ipc = False\u001b[0m\n",
      "   text_encoder@406186[I]:daemon = False\u001b[0m\n",
      "   text_encoder@406186[I]:disable-remote = False\u001b[0m\n",
      "   text_encoder@406186[I]:docker-kwargs = None\u001b[0m\n",
      "   text_encoder@406186[I]:dump-path =\u001b[0m\n",
      "   text_encoder@406186[I]:🔧️ \u001b[43m\u001b[34m            dynamic-routing-in = True                          \u001b[0m\u001b[0m\n",
      "   text_encoder@406186[I]:🔧️ \u001b[43m\u001b[34m           dynamic-routing-out = True                          \u001b[0m\u001b[0m\n",
      "   text_encoder@406186[I]:entrypoint = None\u001b[0m\n",
      "   text_encoder@406186[I]:env = None\u001b[0m\n",
      "   text_encoder@406186[I]:expose-public = False\u001b[0m\n",
      "   text_encoder@406186[I]:force = False\u001b[0m\n",
      "   text_encoder@406186[I]:gpus = None\u001b[0m\n",
      "   text_encoder@406186[I]:grpc-data-requests = False\u001b[0m\n",
      "   text_encoder@406186[I]:host = 0.0.0.0\u001b[0m\n",
      "   text_encoder@406186[I]:host-in = 0.0.0.0\u001b[0m\n",
      "   text_encoder@406186[I]:host-out = 0.0.0.0\u001b[0m\n",
      "   text_encoder@406186[I]:🔧️ \u001b[43m\u001b[34m              hosts-in-connect = []                            \u001b[0m\u001b[0m\n",
      "   text_encoder@406186[I]:🔧️ \u001b[43m\u001b[34m                      identity = 8a9c7db2-e46e-487f-8e3d-f6d042\u001b[0m\u001b[0m\n",
      "   text_encoder@406186[I]:install-requirements = False\u001b[0m\n",
      "   text_encoder@406186[I]:log-config = /usr/local/lib/python3.8/site-\u001b[0m\n",
      "   text_encoder@406186[I]:memory-hwm = -1\u001b[0m\n",
      "   text_encoder@406186[I]:🔧️ \u001b[43m\u001b[34m                          name = text_encoder                  \u001b[0m\u001b[0m\n",
      "   text_encoder@406186[I]:🔧️ \u001b[43m\u001b[34m                        native = True                          \u001b[0m\u001b[0m\n",
      "   text_encoder@406186[I]:🔧️ \u001b[43m\u001b[34m              noblock-on-start = True                          \u001b[0m\u001b[0m\n",
      "   text_encoder@406186[I]:🔧️ \u001b[43m\u001b[34m                      num-part = 1                             \u001b[0m\u001b[0m\n",
      "   text_encoder@406186[I]:on-error-strategy = IGNORE\u001b[0m\n",
      "   text_encoder@406186[I]:pea-id = 0\u001b[0m\n",
      "   text_encoder@406186[I]:pea-role = SINGLETON\u001b[0m\n",
      "   text_encoder@406186[I]:🔧️ \u001b[43m\u001b[34m                     port-ctrl = 37491                         \u001b[0m\u001b[0m\n",
      "   text_encoder@406186[I]:🔧️ \u001b[43m\u001b[34m                       port-in = 52317                         \u001b[0m\u001b[0m\n",
      "   text_encoder@406186[I]:port-jinad = 8000\u001b[0m\n",
      "   text_encoder@406186[I]:🔧️ \u001b[43m\u001b[34m                      port-out = 33455                         \u001b[0m\u001b[0m\n",
      "   text_encoder@406186[I]:pull-latest = False\u001b[0m\n",
      "   text_encoder@406186[I]:py-modules = None\u001b[0m\n",
      "   text_encoder@406186[I]:quiet = False\u001b[0m\n",
      "   text_encoder@406186[I]:quiet-error = False\u001b[0m\n",
      "   text_encoder@406186[I]:quiet-remote-logs = False\u001b[0m\n",
      "   text_encoder@406186[I]:routing-table = None\u001b[0m\n",
      "   text_encoder@406186[I]:🔧️ \u001b[43m\u001b[34m                runs-in-docker = True                          \u001b[0m\u001b[0m\n",
      "   text_encoder@406186[I]:runtime-backend = PROCESS\u001b[0m\n",
      "   text_encoder@406186[I]:runtime-cls = ZEDRuntime\u001b[0m\n",
      "   text_encoder@406186[I]:🔧️ \u001b[43m\u001b[34m                     socket-in = ROUTER_BIND                   \u001b[0m\u001b[0m\n",
      "   text_encoder@406186[I]:🔧️ \u001b[43m\u001b[34m                    socket-out = ROUTER_BIND                   \u001b[0m\u001b[0m\n",
      "   text_encoder@406186[I]:ssh-keyfile = None\u001b[0m\n",
      "   text_encoder@406186[I]:ssh-password = None\u001b[0m\n",
      "   text_encoder@406186[I]:ssh-server = None\u001b[0m\n",
      "   text_encoder@406186[I]:static-routing-table = False\u001b[0m\n",
      "   text_encoder@406186[I]:timeout-ctrl = 5000\u001b[0m\n",
      "   text_encoder@406186[I]:timeout-ready = 600000\u001b[0m\n",
      "   text_encoder@406186[I]:🔧️ \u001b[43m\u001b[34m                  upload-files = []                            \u001b[0m\u001b[0m\n",
      "   text_encoder@406186[I]:🔧️ \u001b[43m\u001b[34m                          uses = config.yml                    \u001b[0m\u001b[0m\n",
      "   text_encoder@406186[I]:🔧️ \u001b[43m\u001b[34m                    uses-metas = {'workspace': 'workspace'}    \u001b[0m\u001b[0m\n",
      "   text_encoder@406186[I]:uses-requests = None\u001b[0m\n",
      "   text_encoder@406186[I]:uses-with = None\u001b[0m\n",
      "   text_encoder@406186[I]:volumes = None\u001b[0m\n",
      "   text_encoder@406186[I]:🔧️ \u001b[43m\u001b[34m                     workspace = /home/mage/Hacking/projects/me\u001b[0m\u001b[0m\n",
      "   text_encoder@406186[I]:🔧️ \u001b[43m\u001b[34m                  workspace-id = ccb574fa-1872-4234-8413-768511\u001b[0m\u001b[0m\n",
      "   text_encoder@406186[I]:🔧️ \u001b[43m\u001b[34m                  zmq-identity = 2740de66-1141-47b2-b548-4be769\u001b[0m\u001b[0m\n",
      "   text_encoder@406186[I]:\u001b[0m\n",
      "   text_encoder@406186[I]:\u001b[33m           JINA@ 1[W]:You are using Jina version 2.1.4, however version 2.1.7 is available. You should consider upgrading via the \"pip install --upgrade jina\" command.\u001b[0m\u001b[0m\n",
      "   text_encoder@406186[I]:\u001b[1;33mUserWarning: It looks like you are trying to import multiple python modules using `py_modules`. When using multiple python files to define an executor, the recommended practice is to structure the files in a python package, and only import the `__init__.py` file of that package. For more details, please check out the cookbook: https://docs.jina.ai/fundamentals/executor/repository-structure/\u001b[0m \u001b[1;30m(raised from /usr/local/lib/python3.8/site-packages/jina/jaml/helper.py:242)\u001b[0m\u001b[0m\n",
      "   text_encoder@406186[I]:\u001b[1;33mUserWarning:\u001b[0m\n",
      "   text_encoder@406186[I]:clip_text shadows one of built-in Python module name.\u001b[0m\n",
      "   text_encoder@406186[I]:It is imported as `user_module.clip_text`\u001b[0m\n",
      "   text_encoder@406186[I]:\u001b[0m\n",
      "   text_encoder@406186[I]:Affects:\u001b[0m\n",
      "   text_encoder@406186[I]:- Either, change your code from using `from clip_text import ...`\u001b[0m\n",
      "   text_encoder@406186[I]:to `from user_module.clip_text import ...`\u001b[0m\n",
      "   text_encoder@406186[I]:- Or, rename clip_text to another name\u001b[0m\n",
      "   text_encoder@406186[I]:\u001b[0m \u001b[1;30m(raised from /usr/local/lib/python3.8/site-packages/jina/importer.py:111)\u001b[0m\u001b[0m\n",
      "   text_encoder@406186[I]:ftfy or spacy is not installed using BERT BasicTokenizer instead of ftfy.\u001b[0m\n",
      "   text_encoder@406186[I]:\u001b[32m   text_encoder@ 1[L]: Executor CLIPTextEncoder started\u001b[0m\u001b[0m\n",
      "           Flow@400139[I]:\u001b[32m🎉 Flow is ready to use!\u001b[0m                                         \n",
      "\t🔗 Protocol: \t\t\u001b[1mHTTP\u001b[0m\n",
      "\t🏠 Local access:\t\u001b[4m\u001b[36m0.0.0.0:12345\u001b[0m\n",
      "\t🔒 Private network:\t\u001b[4m\u001b[36m192.168.0.5:12345\u001b[0m\n",
      "\t💬 Swagger UI:\t\t\u001b[4m\u001b[36mhttp://localhost:12345/docs\u001b[0m\n",
      "\t📚 Redoc:\t\t\u001b[4m\u001b[36mhttp://localhost:12345/redoc\u001b[0m\u001b[0m\n"
     ]
    }
   ],
   "source": [
    "# Sometimes get port errors from docker, restarting docker fixes this\n",
    "\n",
    "query_flow.protocol = \"http\"\n",
    "query_flow.port_expose = 12345\n",
    "# Start the Flow\n",
    "with query_flow:\n",
    "#     query_flow.post(on=\"/index\", inputs=docs) # Set the Flow to index\n",
    "#     query_flow.search(\n",
    "#         inputs = Document(text=\"dog\"),\n",
    "#         on_done = print())\n",
    "    query_flow.block() # Keep the Flow open, ready for user to search"
   ]
  },
  {
   "cell_type": "markdown",
   "metadata": {},
   "source": [
    "Okay, that works! With some of Alex's code in `jina_frontend.py` run through Streamlit, I'm able to hook right into the running Jina process and send search requests. \n",
    "\n",
    "\n",
    "It still takes a long time to boot up CLIP, though. I'll want to make it easy to start the backend and leave it running. Then making a way to index folders and add them to the database will be important. Also a way to filter them, when you're only searching one folder of the memes stored in the total database.\n",
    "\n",
    "Really this points to a philosophical issue: do I want this to be an app that's easy to use locally, with smart folder management? Something like VLC that can scan a Library of folders but keep the metadata separate from file organizaition? Or do I want more of a web-hosted interface that can keep its own database and not worry about files?\n",
    "\n",
    "Well, perhaps it will be possible to do both. But right now I'm thinking of the \"web share\" functionality as central to the casual use of memery, i.e., the user \"shares\" an image to the database where it is saved and indexed, then they can search within the memery interface and \"share\" it back out. So I guess the single-update functionality will be as important as the batch, folder-driven functionality. \n",
    "\n",
    "But now I know I can set up the CRUD API and do a hosted backend service for sure. It's time to start thinking of what I really want in a frontend app..."
   ]
  },
  {
   "cell_type": "code",
   "execution_count": null,
   "metadata": {},
   "outputs": [],
   "source": []
  }
 ],
 "metadata": {
  "kernelspec": {
   "display_name": "Python 3",
   "language": "python",
   "name": "python3"
  }
 },
 "nbformat": 4,
 "nbformat_minor": 4
}
