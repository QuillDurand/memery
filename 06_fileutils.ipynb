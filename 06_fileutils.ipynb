{
 "cells": [
  {
   "cell_type": "code",
   "execution_count": null,
   "metadata": {},
   "outputs": [],
   "source": [
    "# default_exp utils"
   ]
  },
  {
   "cell_type": "markdown",
   "metadata": {},
   "source": [
    "---"
   ]
  },
  {
   "cell_type": "markdown",
   "metadata": {},
   "source": [
    "# File Utils"
   ]
  },
  {
   "cell_type": "code",
   "execution_count": null,
   "metadata": {},
   "outputs": [],
   "source": [
    "#export\n",
    "from IPython.display import Image as IMG"
   ]
  },
  {
   "cell_type": "code",
   "execution_count": null,
   "metadata": {},
   "outputs": [],
   "source": [
    "#export\n",
    "def printi(images, n = 3, w = 200, start_index = 0):\n",
    "    for im in images[start_index:start_index + n]:\n",
    "#         print(f'{im}')\n",
    "        try:\n",
    "            display(IMG(filename=im[0], width=w))\n",
    "        except Exception as e:\n",
    "            print(e)\n",
    "# printi(image_names, 1)"
   ]
  },
  {
   "cell_type": "code",
   "execution_count": null,
   "metadata": {},
   "outputs": [],
   "source": [
    "#export\n",
    "def top_bottom(query):\n",
    "    results = predict_from_text(image_names, image_features, query)\n",
    "    inv_results = sorted(results, key=lambda o: o[1])\n",
    "    print(query.upper())\n",
    "    n = 10\n",
    "    w = 200\n",
    "    print(f'top {n}')\n",
    "    printi([file for file, score in results], n, w)\n",
    "    print(f'bottom {n}')\n",
    "    printi([file for file, score in inv_results], n, w)"
   ]
  },
  {
   "cell_type": "code",
   "execution_count": null,
   "metadata": {},
   "outputs": [],
   "source": [
    "#export\n",
    "def copy_topn_images(results, outpath, n):\n",
    "    for file, score in results[:n]:\n",
    "        prefix = str(int(10*float(score)))\n",
    "        filepath = Path(file)\n",
    "        filename = '-'.join(filepath.parts[-2:])\n",
    "        outfile = outpath/f'{prefix}-{filename}'\n",
    "        outfile.write_bytes(filepath.read_bytes())"
   ]
  }
 ],
 "metadata": {
  "kernelspec": {
   "display_name": "Python 3",
   "language": "python",
   "name": "python3"
  }
 },
 "nbformat": 4,
 "nbformat_minor": 4
}
