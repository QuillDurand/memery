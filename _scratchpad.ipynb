{
 "cells": [
  {
   "cell_type": "code",
   "execution_count": null,
   "metadata": {},
   "outputs": [
    {
     "name": "stdout",
     "output_type": "stream",
     "text": [
      "converting: /home/mage/Hacking/projects/memery/index.ipynb\n",
      "converting /home/mage/Hacking/projects/memery/index.ipynb to README.md\n"
     ]
    }
   ],
   "source": [
    "!nbdev_build_docs"
   ]
  },
  {
   "cell_type": "code",
   "execution_count": null,
   "metadata": {},
   "outputs": [],
   "source": [
    "!git add -A"
   ]
  },
  {
   "cell_type": "code",
   "execution_count": null,
   "metadata": {},
   "outputs": [
    {
     "name": "stdout",
     "output_type": "stream",
     "text": [
      "[main 362add9] fix README generation\n",
      " 5 files changed, 339 insertions(+), 182 deletions(-)\n",
      " create mode 100644 docs/images/E2GoeMyWEAAkcLz.jpeg\n",
      " rewrite index.ipynb (96%)\n"
     ]
    }
   ],
   "source": [
    "!git commit -m 'tangle README'"
   ]
  },
  {
   "cell_type": "code",
   "execution_count": null,
   "metadata": {},
   "outputs": [
    {
     "name": "stdout",
     "output_type": "stream",
     "text": [
      "Enumerating objects: 17, done.\n",
      "Counting objects: 100% (17/17), done.\n",
      "Delta compression using up to 12 threads\n",
      "Compressing objects: 100% (9/9), done.\n",
      "Writing objects: 100% (9/9), 3.23 KiB | 275.00 KiB/s, done.\n",
      "Total 9 (delta 8), reused 0 (delta 0), pack-reused 0\n",
      "remote: Resolving deltas: 100% (8/8), completed with 7 local objects.\u001b[K\n",
      "To https://github.com/deepfates/memery.git\n",
      "   740523f..362add9  main -> main\n"
     ]
    }
   ],
   "source": [
    "!git push"
   ]
  },
  {
   "cell_type": "code",
   "execution_count": null,
   "metadata": {},
   "outputs": [],
   "source": []
  }
 ],
 "metadata": {
  "kernelspec": {
   "display_name": "Python 3",
   "language": "python",
   "name": "python3"
  }
 },
 "nbformat": 4,
 "nbformat_minor": 4
}
