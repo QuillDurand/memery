{
 "cells": [
  {
   "cell_type": "code",
   "execution_count": null,
   "metadata": {},
   "outputs": [],
   "source": [
    "#default_exp ranker"
   ]
  },
  {
   "cell_type": "code",
   "execution_count": null,
   "metadata": {},
   "outputs": [],
   "source": [
    "#hide\n",
    "from nbdev.showdoc import *"
   ]
  },
  {
   "cell_type": "markdown",
   "metadata": {},
   "source": [
    "# Ranker\n",
    "\n",
    "Takes a query and an index and finds the nearest neighbors or most similar scores. Ideally this is just a simple Annoy `get_nns_by_vector`, or in the simple case a similarity score across all the vectors."
   ]
  },
  {
   "cell_type": "code",
   "execution_count": null,
   "metadata": {},
   "outputs": [],
   "source": [
    "import torch\n",
    "\n",
    "\n",
    "from pathlib import Path\n",
    "\n",
    "from memery.loader import treemap_loader, db_loader\n",
    "from memery.encoder import text_encoder"
   ]
  },
  {
   "cell_type": "code",
   "execution_count": null,
   "metadata": {},
   "outputs": [],
   "source": [
    "treemap = treemap_loader(Path('images/memery.ann'))"
   ]
  },
  {
   "cell_type": "code",
   "execution_count": null,
   "metadata": {},
   "outputs": [
    {
     "data": {
      "text/plain": [
       "80"
      ]
     },
     "execution_count": null,
     "metadata": {},
     "output_type": "execute_result"
    }
   ],
   "source": [
    "treemap.get_n_items()"
   ]
  },
  {
   "cell_type": "code",
   "execution_count": null,
   "metadata": {},
   "outputs": [],
   "source": [
    "#export\n",
    "def ranker(query_vec, treemap):\n",
    "    nn_indexes = treemap.get_nns_by_vector(query_vec[0], treemap.get_n_items())\n",
    "    return(nn_indexes)"
   ]
  },
  {
   "cell_type": "code",
   "execution_count": null,
   "metadata": {},
   "outputs": [],
   "source": [
    "#export\n",
    "def nns_to_files(db, indexes):\n",
    "    return([[v['fpath'] for k,v in db.items() if v['index'] == ind][0] for ind in indexes])"
   ]
  },
  {
   "cell_type": "code",
   "execution_count": null,
   "metadata": {},
   "outputs": [],
   "source": [
    "device = torch.device(\"cuda\" if torch.cuda.is_available() else \"cpu\")\n",
    "db = db_loader(Path('images/memery.pt'), device)"
   ]
  },
  {
   "cell_type": "code",
   "execution_count": null,
   "metadata": {},
   "outputs": [],
   "source": [
    "query = 'dog'"
   ]
  },
  {
   "cell_type": "code",
   "execution_count": null,
   "metadata": {},
   "outputs": [],
   "source": [
    "query_vec = text_encoder(query, device)\n",
    "indexes = ranker(query_vec, treemap)\n",
    "ranked_files = nns_to_files(db, indexes)"
   ]
  },
  {
   "cell_type": "code",
   "execution_count": null,
   "metadata": {},
   "outputs": [],
   "source": [
    "def n2flong(db, indexes):\n",
    "    ranked = []\n",
    "    for ind in indexes:\n",
    "        for k, v in db.items():\n",
    "            if v['index'] == ind:\n",
    "                ranked.append(v['fpath'])\n",
    "    return(ranked)"
   ]
  },
  {
   "cell_type": "code",
   "execution_count": null,
   "metadata": {},
   "outputs": [],
   "source": [
    "%load_ext line_profiler"
   ]
  },
  {
   "cell_type": "code",
   "execution_count": null,
   "metadata": {},
   "outputs": [
    {
     "name": "stdout",
     "output_type": "stream",
     "text": [
      " "
     ]
    },
    {
     "data": {
      "text/plain": [
       "         162 function calls in 0.000 seconds\n",
       "\n",
       "   Ordered by: internal time\n",
       "\n",
       "   ncalls  tottime  percall  cumtime  percall filename:lineno(function)\n",
       "       79    0.000    0.000    0.000    0.000 <ipython-input-7-498f8d95be68>:3(<listcomp>)\n",
       "        1    0.000    0.000    0.000    0.000 {built-in method builtins.exec}\n",
       "       79    0.000    0.000    0.000    0.000 {method 'items' of 'dict' objects}\n",
       "        1    0.000    0.000    0.000    0.000 <ipython-input-7-498f8d95be68>:2(nns_to_files)\n",
       "        1    0.000    0.000    0.000    0.000 <string>:1(<module>)\n",
       "        1    0.000    0.000    0.000    0.000 {method 'disable' of '_lsprof.Profiler' objects}"
      ]
     },
     "metadata": {},
     "output_type": "display_data"
    }
   ],
   "source": [
    "%prun nns_to_files(db, indexes)"
   ]
  },
  {
   "cell_type": "code",
   "execution_count": null,
   "metadata": {},
   "outputs": [
    {
     "name": "stdout",
     "output_type": "stream",
     "text": [
      " "
     ]
    },
    {
     "data": {
      "text/plain": [
       "         162 function calls in 0.000 seconds\n",
       "\n",
       "   Ordered by: internal time\n",
       "\n",
       "   ncalls  tottime  percall  cumtime  percall filename:lineno(function)\n",
       "        1    0.000    0.000    0.000    0.000 <ipython-input-11-7425d3e4632d>:1(n2flong)\n",
       "        1    0.000    0.000    0.000    0.000 {built-in method builtins.exec}\n",
       "       79    0.000    0.000    0.000    0.000 {method 'append' of 'list' objects}\n",
       "       79    0.000    0.000    0.000    0.000 {method 'items' of 'dict' objects}\n",
       "        1    0.000    0.000    0.000    0.000 <string>:1(<module>)\n",
       "        1    0.000    0.000    0.000    0.000 {method 'disable' of '_lsprof.Profiler' objects}"
      ]
     },
     "metadata": {},
     "output_type": "display_data"
    }
   ],
   "source": [
    "%prun n2flong(db, indexes)"
   ]
  },
  {
   "cell_type": "code",
   "execution_count": null,
   "metadata": {},
   "outputs": [],
   "source": [
    "\n",
    "def sort_db_by_nns(db, nn_indexes):\n",
    "    slugs = [v['fpath'] for v in db.values()]\n",
    "    slug_nns = zip(slugs, nn_indexes)\n",
    "    ranked_slugs = sorted(slug_nns, key=lambda o: o[1])\n",
    "    return(ranked_slugs)\n",
    "#     return(ranked_slugs)\n",
    "        \n",
    "#     ranked_db = sorted(db, key=lambda k,v: v.get('index') == i)"
   ]
  },
  {
   "cell_type": "code",
   "execution_count": null,
   "metadata": {},
   "outputs": [
    {
     "name": "stdout",
     "output_type": "stream",
     "text": [
      " "
     ]
    },
    {
     "data": {
      "text/plain": [
       "         86 function calls in 0.000 seconds\n",
       "\n",
       "   Ordered by: internal time\n",
       "\n",
       "   ncalls  tottime  percall  cumtime  percall filename:lineno(function)\n",
       "        1    0.000    0.000    0.000    0.000 {built-in method builtins.exec}\n",
       "        1    0.000    0.000    0.000    0.000 {built-in method builtins.sorted}\n",
       "        1    0.000    0.000    0.000    0.000 <ipython-input-20-0bb824d6058d>:2(<listcomp>)\n",
       "       79    0.000    0.000    0.000    0.000 <ipython-input-20-0bb824d6058d>:4(<lambda>)\n",
       "        1    0.000    0.000    0.000    0.000 <ipython-input-20-0bb824d6058d>:1(sort_db_by_nns)\n",
       "        1    0.000    0.000    0.000    0.000 <string>:1(<module>)\n",
       "        1    0.000    0.000    0.000    0.000 {method 'values' of 'dict' objects}\n",
       "        1    0.000    0.000    0.000    0.000 {method 'disable' of '_lsprof.Profiler' objects}"
      ]
     },
     "metadata": {},
     "output_type": "display_data"
    }
   ],
   "source": [
    "%prun sort_db_by_nns(db, indexes)"
   ]
  },
  {
   "cell_type": "code",
   "execution_count": null,
   "metadata": {},
   "outputs": [
    {
     "ename": "AssertionError",
     "evalue": "",
     "output_type": "error",
     "traceback": [
      "\u001b[0;31m---------------------------------------------------------------------------\u001b[0m",
      "\u001b[0;31mAssertionError\u001b[0m                            Traceback (most recent call last)",
      "\u001b[0;32m<ipython-input-22-4d0baaa522fa>\u001b[0m in \u001b[0;36m<module>\u001b[0;34m\u001b[0m\n\u001b[0;32m----> 1\u001b[0;31m \u001b[0;32massert\u001b[0m \u001b[0mnns_to_files\u001b[0m\u001b[0;34m(\u001b[0m\u001b[0mdb\u001b[0m\u001b[0;34m,\u001b[0m \u001b[0mindexes\u001b[0m\u001b[0;34m)\u001b[0m \u001b[0;34m==\u001b[0m \u001b[0msort_db_by_nns\u001b[0m\u001b[0;34m(\u001b[0m\u001b[0mdb\u001b[0m\u001b[0;34m,\u001b[0m \u001b[0mindexes\u001b[0m\u001b[0;34m)\u001b[0m\u001b[0;34m\u001b[0m\u001b[0;34m\u001b[0m\u001b[0m\n\u001b[0m",
      "\u001b[0;31mAssertionError\u001b[0m: "
     ]
    }
   ],
   "source": [
    "assert nns_to_files(db, indexes) == sort_db_by_nns(db, indexes)"
   ]
  },
  {
   "cell_type": "code",
   "execution_count": null,
   "metadata": {},
   "outputs": [
    {
     "data": {
      "text/plain": [
       "[('images/mexican-food-concept-EXFWKZG.jpg', 0),\n",
       " ('images/Wholesome-Meme-84.jpg', 1),\n",
       " ('images/Wholesome-Meme-29.jpg', 2),\n",
       " ('images/Wholesome-Meme-64.jpg', 3),\n",
       " ('images/Wholesome-Meme-61.png', 4),\n",
       " ('images/Wholesome-Meme-72.jpg', 5),\n",
       " ('images/Wholesome-Meme-67.png', 6),\n",
       " ('images/Wholesome-Meme-40.png', 7),\n",
       " ('images/happy-young-couple-eat-breakfast-in-bed-in-morning-RH4KQ72.jpg', 8),\n",
       " ('images/Wholesome-Meme-69.jpg', 9),\n",
       " ('images/Wholesome-Meme-15.jpg', 10),\n",
       " ('images/Wholesome-Meme-97.jpg', 11),\n",
       " ('images/Wholesome-Meme-82.jpg', 12),\n",
       " ('images/Wholesome-Meme-98.jpg', 13),\n",
       " ('images/Wholesome-Meme-39.jpg', 14),\n",
       " ('images/Wholesome-Meme-44.png', 15),\n",
       " ('images/Wholesome-Meme-6.jpg', 16),\n",
       " ('images/Wholesome-Meme-89.jpg', 17),\n",
       " ('images/Wholesome-Meme-36.jpg', 18),\n",
       " ('images/Wholesome-Meme-86.jpg', 19),\n",
       " ('images/Wholesome-Meme-7.jpg', 20),\n",
       " ('images/Wholesome-Meme-33.jpg', 21),\n",
       " ('images/Wholesome-Meme-16.jpg', 22),\n",
       " ('images/Wholesome-Meme-60.jpg', 23),\n",
       " ('images/Wholesome-Meme-27.jpg', 24),\n",
       " ('images/portrait-of-happy-birthday-boy-B8VU4LZ.jpg', 25),\n",
       " ('images/Wholesome-Meme-25.jpg', 26),\n",
       " ('images/Wholesome-Meme-57.jpg', 27),\n",
       " ('images/Wholesome-Meme-77.jpg', 28),\n",
       " ('images/i-love-you-note-in-the-valentine-day-settings-X87BZ44.jpg', 29),\n",
       " ('images/cute-dog-with-cupcake-P9E2YL5-min.jpg', 30),\n",
       " ('images/Wholesome-Meme-71.jpg', 31),\n",
       " ('images/Wholesome-Meme-41.jpg', 32),\n",
       " ('images/Wholesome-Meme-63.jpg', 33),\n",
       " ('images/Wholesome-Meme-10.jpg', 34),\n",
       " ('images/Wholesome-Meme-59.jpg', 35),\n",
       " ('images/Wholesome-Meme-12.jpg', 36),\n",
       " ('images/Wholesome-Meme-85.jpg', 37),\n",
       " ('images/Wholesome-Meme-17.jpg', 38),\n",
       " ('images/Wholesome-Meme-78.jpg', 39),\n",
       " ('images/Wholesome-Meme-80.jpg', 41),\n",
       " ('images/Wholesome-Meme-14.jpg', 42),\n",
       " ('images/Envato-Elements.png', 43),\n",
       " ('images/love-from-the-past-PPBEUVU-min.jpg', 44),\n",
       " ('images/Wholesome-Meme-8.jpg', 45),\n",
       " ('images/Shrek_screenshot.jpg', 46),\n",
       " ('images/Wholesome-Meme-23.jpg', 47),\n",
       " ('images/Wholesome-Meme-3.jpg', 48),\n",
       " ('images/embarassed-dog-on-bed-SA2BDZW.jpg', 49),\n",
       " ('images/cute-baby-touching-his-moms-face.jpeg', 50),\n",
       " ('images/E2GoeMyWEAAkcLz.jpeg', 51),\n",
       " ('images/Wholesome-Meme-42.jpg', 52),\n",
       " ('images/Wholesome-Meme-13.jpg', 53),\n",
       " ('images/Wholesome-Meme-73.png', 54),\n",
       " ('images/Wholesome-Meme-76.jpg', 55),\n",
       " ('images/Wholesome-Meme-99.jpg', 56),\n",
       " ('images/stonks-meme.jpg', 57),\n",
       " ('images/braydon-anderson-wOHH-NUTvVc-unsplash-min.jpg', 58),\n",
       " ('images/Wholesome-Meme.jpg', 59),\n",
       " ('images/Wholesome-Meme-74.jpg', 60),\n",
       " ('images/Wholesome-Meme-9.jpg', 61),\n",
       " ('images/Father-and-son-having-fun-at-the-breakfast-table.jpg', 62),\n",
       " ('images/Wholesome-Meme-31.jpg', 63),\n",
       " ('images/Wholesome-Meme-65.jpg', 64),\n",
       " ('images/Wholesome-Meme-28.jpg', 65),\n",
       " ('images/Wholesome-Meme-18.jpg', 66),\n",
       " ('images/Wholesome-Meme-81.jpg', 67),\n",
       " ('images/Wholesome-Meme-34.jpg', 68),\n",
       " ('images/Wholesome-Meme-21.jpg', 69),\n",
       " ('images/Wholesome-Meme-45.jpg', 70),\n",
       " ('images/Wholesome-Meme-68.jpg', 71),\n",
       " ('images/Wholesome-Meme-35.jpg', 72),\n",
       " ('images/Wholesome-Meme-22.jpg', 73),\n",
       " ('images/Wholesome-Meme-4.jpg', 74),\n",
       " ('images/halloween-Pumpkin-min.jpg', 75),\n",
       " ('images/Wholesome-Meme-5.jpg', 76),\n",
       " ('images/Wholesome-Meme-1.jpg', 77),\n",
       " ('images/Wholesome-Meme-70.jpg', 78),\n",
       " ('images/Wholesome-Meme-88.jpg', 79)]"
      ]
     },
     "execution_count": null,
     "metadata": {},
     "output_type": "execute_result"
    }
   ],
   "source": [
    "sort_db_by_nns(db, indexes)"
   ]
  },
  {
   "cell_type": "code",
   "execution_count": null,
   "metadata": {},
   "outputs": [
    {
     "data": {
      "text/plain": [
       "['images/Wholesome-Meme-8.jpg',\n",
       " 'images/Wholesome-Meme-5.jpg',\n",
       " 'images/Wholesome-Meme-35.jpg',\n",
       " 'images/Wholesome-Meme-67.png',\n",
       " 'images/embarassed-dog-on-bed-SA2BDZW.jpg',\n",
       " 'images/Wholesome-Meme-72.jpg',\n",
       " 'images/braydon-anderson-wOHH-NUTvVc-unsplash-min.jpg',\n",
       " 'images/cute-dog-with-cupcake-P9E2YL5-min.jpg',\n",
       " 'images/Wholesome-Meme-3.jpg',\n",
       " 'images/Wholesome-Meme-18.jpg',\n",
       " 'images/Wholesome-Meme-29.jpg',\n",
       " 'images/Wholesome-Meme-13.jpg',\n",
       " 'images/Wholesome-Meme-14.jpg',\n",
       " 'images/Wholesome-Meme-71.jpg',\n",
       " 'images/Wholesome-Meme-44.png',\n",
       " 'images/Wholesome-Meme-63.jpg',\n",
       " 'images/Wholesome-Meme-15.jpg',\n",
       " 'images/Wholesome-Meme-17.jpg',\n",
       " 'images/Wholesome-Meme-98.jpg',\n",
       " 'images/stonks-meme.jpg',\n",
       " 'images/Wholesome-Meme-39.jpg',\n",
       " 'images/Wholesome-Meme-68.jpg',\n",
       " 'images/Wholesome-Meme-45.jpg',\n",
       " 'images/Wholesome-Meme-36.jpg',\n",
       " 'images/Wholesome-Meme-22.jpg',\n",
       " 'images/Wholesome-Meme-77.jpg',\n",
       " 'images/Wholesome-Meme-61.png',\n",
       " 'images/Wholesome-Meme-25.jpg',\n",
       " 'images/Wholesome-Meme-84.jpg',\n",
       " 'images/Wholesome-Meme-28.jpg',\n",
       " 'images/Wholesome-Meme-41.jpg',\n",
       " 'images/Wholesome-Meme-12.jpg',\n",
       " 'images/Wholesome-Meme-99.jpg',\n",
       " 'images/Wholesome-Meme-7.jpg',\n",
       " 'images/Wholesome-Meme-21.jpg',\n",
       " 'images/Wholesome-Meme-57.jpg',\n",
       " 'images/Wholesome-Meme.jpg',\n",
       " 'images/Wholesome-Meme-27.jpg',\n",
       " 'images/Wholesome-Meme-23.jpg',\n",
       " 'images/Wholesome-Meme-10.jpg',\n",
       " 'images/Wholesome-Meme-74.jpg',\n",
       " 'images/Shrek_screenshot.jpg',\n",
       " 'images/Wholesome-Meme-76.jpg',\n",
       " 'images/Wholesome-Meme-69.jpg',\n",
       " 'images/Wholesome-Meme-73.png',\n",
       " 'images/Wholesome-Meme-1.jpg',\n",
       " 'images/Wholesome-Meme-40.png',\n",
       " 'images/Wholesome-Meme-78.jpg',\n",
       " 'images/Wholesome-Meme-6.jpg',\n",
       " 'images/Wholesome-Meme-89.jpg',\n",
       " 'images/Wholesome-Meme-60.jpg',\n",
       " 'images/Wholesome-Meme-4.jpg',\n",
       " 'images/Wholesome-Meme-34.jpg',\n",
       " 'images/Wholesome-Meme-86.jpg',\n",
       " 'images/Wholesome-Meme-16.jpg',\n",
       " 'images/Wholesome-Meme-80.jpg',\n",
       " 'images/Wholesome-Meme-65.jpg',\n",
       " 'images/Wholesome-Meme-33.jpg',\n",
       " 'images/Wholesome-Meme-85.jpg',\n",
       " 'images/Wholesome-Meme-81.jpg',\n",
       " 'images/Wholesome-Meme-88.jpg',\n",
       " 'images/Wholesome-Meme-42.jpg',\n",
       " 'images/Wholesome-Meme-82.jpg',\n",
       " 'images/E2GoeMyWEAAkcLz.jpeg',\n",
       " 'images/halloween-Pumpkin-min.jpg',\n",
       " 'images/Wholesome-Meme-59.jpg',\n",
       " 'images/Wholesome-Meme-31.jpg',\n",
       " 'images/Wholesome-Meme-9.jpg',\n",
       " 'images/cute-baby-touching-his-moms-face.jpeg',\n",
       " 'images/Wholesome-Meme-70.jpg',\n",
       " 'images/Wholesome-Meme-97.jpg',\n",
       " 'images/Wholesome-Meme-64.jpg',\n",
       " 'images/happy-young-couple-eat-breakfast-in-bed-in-morning-RH4KQ72.jpg',\n",
       " 'images/love-from-the-past-PPBEUVU-min.jpg',\n",
       " 'images/i-love-you-note-in-the-valentine-day-settings-X87BZ44.jpg',\n",
       " 'images/portrait-of-happy-birthday-boy-B8VU4LZ.jpg',\n",
       " 'images/Envato-Elements.png',\n",
       " 'images/Father-and-son-having-fun-at-the-breakfast-table.jpg',\n",
       " 'images/mexican-food-concept-EXFWKZG.jpg']"
      ]
     },
     "execution_count": null,
     "metadata": {},
     "output_type": "execute_result"
    }
   ],
   "source": [
    "nns_to_files(db, indexes)"
   ]
  },
  {
   "cell_type": "code",
   "execution_count": null,
   "metadata": {},
   "outputs": [],
   "source": [
    "    slugs = [(v['fpath'], v['index'] )for v in db.values()]"
   ]
  },
  {
   "cell_type": "code",
   "execution_count": null,
   "metadata": {},
   "outputs": [
    {
     "data": {
      "text/plain": [
       "[('images/Wholesome-Meme-3.jpg', 0),\n",
       " ('images/Wholesome-Meme-44.png', 1),\n",
       " ('images/Wholesome-Meme-69.jpg', 2),\n",
       " ('images/Wholesome-Meme-59.jpg', 3),\n",
       " ('images/Wholesome-Meme-68.jpg', 4),\n",
       " ('images/Wholesome-Meme-72.jpg', 5),\n",
       " ('images/Wholesome-Meme-57.jpg', 6),\n",
       " ('images/Wholesome-Meme-74.jpg', 7),\n",
       " ('images/mexican-food-concept-EXFWKZG.jpg', 8),\n",
       " ('images/Wholesome-Meme-35.jpg', 9),\n",
       " ('images/Envato-Elements.png', 10),\n",
       " ('images/Wholesome-Meme-89.jpg', 11),\n",
       " ('images/Wholesome-Meme-80.jpg', 12),\n",
       " ('images/Wholesome-Meme-45.jpg', 13),\n",
       " ('images/Wholesome-Meme-84.jpg', 14),\n",
       " ('images/Wholesome-Meme-5.jpg', 15),\n",
       " ('images/Wholesome-Meme-1.jpg', 16),\n",
       " ('images/Wholesome-Meme-13.jpg', 17),\n",
       " ('images/Wholesome-Meme-16.jpg', 18),\n",
       " ('images/Wholesome-Meme-23.jpg', 19),\n",
       " ('images/Wholesome-Meme-77.jpg', 20),\n",
       " ('images/Wholesome-Meme-61.png', 21),\n",
       " ('images/Wholesome-Meme-98.jpg', 22),\n",
       " ('images/Wholesome-Meme-73.png', 23),\n",
       " ('images/Wholesome-Meme-9.jpg', 24),\n",
       " ('images/Wholesome-Meme-7.jpg', 25),\n",
       " ('images/Wholesome-Meme-33.jpg', 26),\n",
       " ('images/braydon-anderson-wOHH-NUTvVc-unsplash-min.jpg', 27),\n",
       " ('images/Wholesome-Meme-39.jpg', 28),\n",
       " ('images/halloween-Pumpkin-min.jpg', 29),\n",
       " ('images/Wholesome-Meme-81.jpg', 30),\n",
       " ('images/Wholesome-Meme-70.jpg', 31),\n",
       " ('images/Wholesome-Meme-31.jpg', 32),\n",
       " ('images/portrait-of-happy-birthday-boy-B8VU4LZ.jpg', 33),\n",
       " ('images/E2GoeMyWEAAkcLz.jpeg', 34),\n",
       " ('images/Wholesome-Meme-67.png', 35),\n",
       " ('images/Father-and-son-having-fun-at-the-breakfast-table.jpg', 36),\n",
       " ('images/Wholesome-Meme-34.jpg', 37),\n",
       " ('images/Wholesome-Meme-86.jpg', 38),\n",
       " ('images/Wholesome-Meme-65.jpg', 39),\n",
       " ('images/Wholesome-Meme-40.png', 55),\n",
       " ('images/Wholesome-Meme-14.jpg', 41),\n",
       " ('images/Shrek_screenshot.jpg', 42),\n",
       " ('images/Wholesome-Meme-29.jpg', 43),\n",
       " ('images/Wholesome-Meme-60.jpg', 44),\n",
       " ('images/Wholesome-Meme-6.jpg', 45),\n",
       " ('images/Wholesome-Meme-76.jpg', 46),\n",
       " ('images/stonks-meme.jpg', 47),\n",
       " ('images/Wholesome-Meme-8.jpg', 48),\n",
       " ('images/Wholesome-Meme-97.jpg', 49),\n",
       " ('images/love-from-the-past-PPBEUVU-min.jpg', 50),\n",
       " ('images/Wholesome-Meme-21.jpg', 51),\n",
       " ('images/Wholesome-Meme-85.jpg', 52),\n",
       " ('images/Wholesome-Meme-17.jpg', 53),\n",
       " ('images/Wholesome-Meme-36.jpg', 54),\n",
       " ('images/Wholesome-Meme-82.jpg', 56),\n",
       " ('images/Wholesome-Meme-78.jpg', 57),\n",
       " ('images/Wholesome-Meme-25.jpg', 58),\n",
       " ('images/Wholesome-Meme-42.jpg', 59),\n",
       " ('images/cute-dog-with-cupcake-P9E2YL5-min.jpg', 60),\n",
       " ('images/Wholesome-Meme-22.jpg', 61),\n",
       " ('images/Wholesome-Meme.jpg', 62),\n",
       " ('images/Wholesome-Meme-99.jpg', 63),\n",
       " ('images/Wholesome-Meme-10.jpg', 64),\n",
       " ('images/i-love-you-note-in-the-valentine-day-settings-X87BZ44.jpg', 65),\n",
       " ('images/Wholesome-Meme-64.jpg', 66),\n",
       " ('images/Wholesome-Meme-41.jpg', 67),\n",
       " ('images/Wholesome-Meme-27.jpg', 68),\n",
       " ('images/Wholesome-Meme-4.jpg', 69),\n",
       " ('images/Wholesome-Meme-71.jpg', 70),\n",
       " ('images/embarassed-dog-on-bed-SA2BDZW.jpg', 71),\n",
       " ('images/Wholesome-Meme-18.jpg', 72),\n",
       " ('images/Wholesome-Meme-88.jpg', 73),\n",
       " ('images/cute-baby-touching-his-moms-face.jpeg', 74),\n",
       " ('images/Wholesome-Meme-28.jpg', 75),\n",
       " ('images/Wholesome-Meme-63.jpg', 76),\n",
       " ('images/Wholesome-Meme-15.jpg', 77),\n",
       " ('images/Wholesome-Meme-12.jpg', 78),\n",
       " ('images/happy-young-couple-eat-breakfast-in-bed-in-morning-RH4KQ72.jpg', 79)]"
      ]
     },
     "execution_count": null,
     "metadata": {},
     "output_type": "execute_result"
    }
   ],
   "source": [
    "slugs"
   ]
  },
  {
   "cell_type": "code",
   "execution_count": null,
   "metadata": {},
   "outputs": [
    {
     "data": {
      "text/plain": [
       "['images/Wholesome-Meme-8.jpg',\n",
       " 'images/Wholesome-Meme-5.jpg',\n",
       " 'images/Wholesome-Meme-35.jpg',\n",
       " 'images/Wholesome-Meme-67.png',\n",
       " 'images/embarassed-dog-on-bed-SA2BDZW.jpg',\n",
       " 'images/Wholesome-Meme-72.jpg',\n",
       " 'images/braydon-anderson-wOHH-NUTvVc-unsplash-min.jpg',\n",
       " 'images/cute-dog-with-cupcake-P9E2YL5-min.jpg',\n",
       " 'images/Wholesome-Meme-3.jpg',\n",
       " 'images/Wholesome-Meme-18.jpg',\n",
       " 'images/Wholesome-Meme-29.jpg',\n",
       " 'images/Wholesome-Meme-13.jpg',\n",
       " 'images/Wholesome-Meme-14.jpg',\n",
       " 'images/Wholesome-Meme-71.jpg',\n",
       " 'images/Wholesome-Meme-44.png',\n",
       " 'images/Wholesome-Meme-63.jpg',\n",
       " 'images/Wholesome-Meme-15.jpg',\n",
       " 'images/Wholesome-Meme-17.jpg',\n",
       " 'images/Wholesome-Meme-98.jpg',\n",
       " 'images/stonks-meme.jpg',\n",
       " 'images/Wholesome-Meme-39.jpg',\n",
       " 'images/Wholesome-Meme-68.jpg',\n",
       " 'images/Wholesome-Meme-45.jpg',\n",
       " 'images/Wholesome-Meme-36.jpg',\n",
       " 'images/Wholesome-Meme-22.jpg',\n",
       " 'images/Wholesome-Meme-77.jpg',\n",
       " 'images/Wholesome-Meme-61.png',\n",
       " 'images/Wholesome-Meme-25.jpg',\n",
       " 'images/Wholesome-Meme-84.jpg',\n",
       " 'images/Wholesome-Meme-28.jpg',\n",
       " 'images/Wholesome-Meme-41.jpg',\n",
       " 'images/Wholesome-Meme-12.jpg',\n",
       " 'images/Wholesome-Meme-99.jpg',\n",
       " 'images/Wholesome-Meme-7.jpg',\n",
       " 'images/Wholesome-Meme-21.jpg',\n",
       " 'images/Wholesome-Meme-57.jpg',\n",
       " 'images/Wholesome-Meme.jpg',\n",
       " 'images/Wholesome-Meme-27.jpg',\n",
       " 'images/Wholesome-Meme-23.jpg',\n",
       " 'images/Wholesome-Meme-10.jpg',\n",
       " 'images/Wholesome-Meme-74.jpg',\n",
       " 'images/Shrek_screenshot.jpg',\n",
       " 'images/Wholesome-Meme-76.jpg',\n",
       " 'images/Wholesome-Meme-69.jpg',\n",
       " 'images/Wholesome-Meme-73.png',\n",
       " 'images/Wholesome-Meme-1.jpg',\n",
       " 'images/Wholesome-Meme-40.png',\n",
       " 'images/Wholesome-Meme-78.jpg',\n",
       " 'images/Wholesome-Meme-6.jpg',\n",
       " 'images/Wholesome-Meme-89.jpg',\n",
       " 'images/Wholesome-Meme-60.jpg',\n",
       " 'images/Wholesome-Meme-4.jpg',\n",
       " 'images/Wholesome-Meme-34.jpg',\n",
       " 'images/Wholesome-Meme-86.jpg',\n",
       " 'images/Wholesome-Meme-16.jpg',\n",
       " 'images/Wholesome-Meme-80.jpg',\n",
       " 'images/Wholesome-Meme-65.jpg',\n",
       " 'images/Wholesome-Meme-33.jpg',\n",
       " 'images/Wholesome-Meme-85.jpg',\n",
       " 'images/Wholesome-Meme-81.jpg',\n",
       " 'images/Wholesome-Meme-88.jpg',\n",
       " 'images/Wholesome-Meme-42.jpg',\n",
       " 'images/Wholesome-Meme-82.jpg',\n",
       " 'images/E2GoeMyWEAAkcLz.jpeg',\n",
       " 'images/halloween-Pumpkin-min.jpg',\n",
       " 'images/Wholesome-Meme-59.jpg',\n",
       " 'images/Wholesome-Meme-31.jpg',\n",
       " 'images/Wholesome-Meme-9.jpg',\n",
       " 'images/cute-baby-touching-his-moms-face.jpeg',\n",
       " 'images/Wholesome-Meme-70.jpg',\n",
       " 'images/Wholesome-Meme-97.jpg',\n",
       " 'images/Wholesome-Meme-64.jpg',\n",
       " 'images/happy-young-couple-eat-breakfast-in-bed-in-morning-RH4KQ72.jpg',\n",
       " 'images/love-from-the-past-PPBEUVU-min.jpg',\n",
       " 'images/i-love-you-note-in-the-valentine-day-settings-X87BZ44.jpg',\n",
       " 'images/portrait-of-happy-birthday-boy-B8VU4LZ.jpg',\n",
       " 'images/Envato-Elements.png',\n",
       " 'images/Father-and-son-having-fun-at-the-breakfast-table.jpg',\n",
       " 'images/mexican-food-concept-EXFWKZG.jpg']"
      ]
     },
     "execution_count": null,
     "metadata": {},
     "output_type": "execute_result"
    }
   ],
   "source": [
    "[[slug for slug, index in slugs if index == i][0] for i in indexes]"
   ]
  },
  {
   "cell_type": "code",
   "execution_count": null,
   "metadata": {},
   "outputs": [
    {
     "name": "stdout",
     "output_type": "stream",
     "text": [
      "48\n",
      "images/Wholesome-Meme-8.jpg 48\n",
      "15\n",
      "images/Wholesome-Meme-5.jpg 15\n",
      "9\n",
      "images/Wholesome-Meme-35.jpg 9\n",
      "35\n",
      "images/Wholesome-Meme-67.png 35\n",
      "71\n",
      "images/embarassed-dog-on-bed-SA2BDZW.jpg 71\n",
      "5\n",
      "images/Wholesome-Meme-72.jpg 5\n",
      "27\n",
      "images/braydon-anderson-wOHH-NUTvVc-unsplash-min.jpg 27\n",
      "60\n",
      "images/cute-dog-with-cupcake-P9E2YL5-min.jpg 60\n",
      "0\n",
      "images/Wholesome-Meme-3.jpg 0\n",
      "72\n",
      "images/Wholesome-Meme-18.jpg 72\n",
      "43\n",
      "images/Wholesome-Meme-29.jpg 43\n",
      "17\n",
      "images/Wholesome-Meme-13.jpg 17\n",
      "41\n",
      "images/Wholesome-Meme-14.jpg 41\n",
      "70\n",
      "images/Wholesome-Meme-71.jpg 70\n",
      "1\n",
      "images/Wholesome-Meme-44.png 1\n",
      "76\n",
      "images/Wholesome-Meme-63.jpg 76\n",
      "77\n",
      "images/Wholesome-Meme-15.jpg 77\n",
      "53\n",
      "images/Wholesome-Meme-17.jpg 53\n",
      "22\n",
      "images/Wholesome-Meme-98.jpg 22\n",
      "47\n",
      "images/stonks-meme.jpg 47\n",
      "28\n",
      "images/Wholesome-Meme-39.jpg 28\n",
      "4\n",
      "images/Wholesome-Meme-68.jpg 4\n",
      "13\n",
      "images/Wholesome-Meme-45.jpg 13\n",
      "54\n",
      "images/Wholesome-Meme-36.jpg 54\n",
      "61\n",
      "images/Wholesome-Meme-22.jpg 61\n",
      "20\n",
      "images/Wholesome-Meme-77.jpg 20\n",
      "21\n",
      "images/Wholesome-Meme-61.png 21\n",
      "58\n",
      "images/Wholesome-Meme-25.jpg 58\n",
      "14\n",
      "images/Wholesome-Meme-84.jpg 14\n",
      "75\n",
      "images/Wholesome-Meme-28.jpg 75\n",
      "67\n",
      "images/Wholesome-Meme-41.jpg 67\n",
      "78\n",
      "images/Wholesome-Meme-12.jpg 78\n",
      "63\n",
      "images/Wholesome-Meme-99.jpg 63\n",
      "25\n",
      "images/Wholesome-Meme-7.jpg 25\n",
      "51\n",
      "images/Wholesome-Meme-21.jpg 51\n",
      "6\n",
      "images/Wholesome-Meme-57.jpg 6\n",
      "62\n",
      "images/Wholesome-Meme.jpg 62\n",
      "68\n",
      "images/Wholesome-Meme-27.jpg 68\n",
      "19\n",
      "images/Wholesome-Meme-23.jpg 19\n",
      "64\n",
      "images/Wholesome-Meme-10.jpg 64\n",
      "7\n",
      "images/Wholesome-Meme-74.jpg 7\n",
      "42\n",
      "images/Shrek_screenshot.jpg 42\n",
      "46\n",
      "images/Wholesome-Meme-76.jpg 46\n",
      "2\n",
      "images/Wholesome-Meme-69.jpg 2\n",
      "23\n",
      "images/Wholesome-Meme-73.png 23\n",
      "16\n",
      "images/Wholesome-Meme-1.jpg 16\n",
      "55\n",
      "images/Wholesome-Meme-40.png 55\n",
      "57\n",
      "images/Wholesome-Meme-78.jpg 57\n",
      "45\n",
      "images/Wholesome-Meme-6.jpg 45\n",
      "11\n",
      "images/Wholesome-Meme-89.jpg 11\n",
      "44\n",
      "images/Wholesome-Meme-60.jpg 44\n",
      "69\n",
      "images/Wholesome-Meme-4.jpg 69\n",
      "37\n",
      "images/Wholesome-Meme-34.jpg 37\n",
      "38\n",
      "images/Wholesome-Meme-86.jpg 38\n",
      "18\n",
      "images/Wholesome-Meme-16.jpg 18\n",
      "12\n",
      "images/Wholesome-Meme-80.jpg 12\n",
      "39\n",
      "images/Wholesome-Meme-65.jpg 39\n",
      "26\n",
      "images/Wholesome-Meme-33.jpg 26\n",
      "52\n",
      "images/Wholesome-Meme-85.jpg 52\n",
      "30\n",
      "images/Wholesome-Meme-81.jpg 30\n",
      "73\n",
      "images/Wholesome-Meme-88.jpg 73\n",
      "59\n",
      "images/Wholesome-Meme-42.jpg 59\n",
      "56\n",
      "images/Wholesome-Meme-82.jpg 56\n",
      "34\n",
      "images/E2GoeMyWEAAkcLz.jpeg 34\n",
      "29\n",
      "images/halloween-Pumpkin-min.jpg 29\n",
      "3\n",
      "images/Wholesome-Meme-59.jpg 3\n",
      "32\n",
      "images/Wholesome-Meme-31.jpg 32\n",
      "24\n",
      "images/Wholesome-Meme-9.jpg 24\n",
      "74\n",
      "images/cute-baby-touching-his-moms-face.jpeg 74\n",
      "31\n",
      "images/Wholesome-Meme-70.jpg 31\n",
      "49\n",
      "images/Wholesome-Meme-97.jpg 49\n",
      "66\n",
      "images/Wholesome-Meme-64.jpg 66\n",
      "79\n",
      "images/happy-young-couple-eat-breakfast-in-bed-in-morning-RH4KQ72.jpg 79\n",
      "50\n",
      "images/love-from-the-past-PPBEUVU-min.jpg 50\n",
      "65\n",
      "images/i-love-you-note-in-the-valentine-day-settings-X87BZ44.jpg 65\n",
      "33\n",
      "images/portrait-of-happy-birthday-boy-B8VU4LZ.jpg 33\n",
      "10\n",
      "images/Envato-Elements.png 10\n",
      "36\n",
      "images/Father-and-son-having-fun-at-the-breakfast-table.jpg 36\n",
      "8\n",
      "images/mexican-food-concept-EXFWKZG.jpg 8\n"
     ]
    }
   ],
   "source": [
    "for i in indexes:\n",
    "    print(i)\n",
    "    for slug, index in slugs:\n",
    "        if index == i:\n",
    "            print(slug, index)"
   ]
  },
  {
   "cell_type": "code",
   "execution_count": null,
   "metadata": {},
   "outputs": [],
   "source": []
  },
  {
   "cell_type": "code",
   "execution_count": null,
   "metadata": {},
   "outputs": [],
   "source": []
  }
 ],
 "metadata": {
  "kernelspec": {
   "display_name": "Python 3",
   "language": "python",
   "name": "python3"
  }
 },
 "nbformat": 4,
 "nbformat_minor": 4
}
