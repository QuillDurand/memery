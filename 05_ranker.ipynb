{
 "cells": [
  {
   "cell_type": "code",
   "execution_count": null,
   "metadata": {},
   "outputs": [],
   "source": [
    "#default_exp ranker"
   ]
  },
  {
   "cell_type": "code",
   "execution_count": null,
   "metadata": {},
   "outputs": [],
   "source": [
    "#hide\n",
    "from nbdev.showdoc import *"
   ]
  },
  {
   "cell_type": "markdown",
   "metadata": {},
   "source": [
    "# Ranker\n",
    "\n",
    "Takes a query and an index and finds the nearest neighbors or most similar scores. Ideally this is just a simple Annoy `get_nns_by_vector`, or in the simple case a similarity score across all the vectors."
   ]
  },
  {
   "cell_type": "code",
   "execution_count": null,
   "metadata": {},
   "outputs": [],
   "source": [
    "import torch\n",
    "\n",
    "\n",
    "from pathlib import Path\n",
    "\n",
    "from memery.loader import treemap_loader, db_loader\n",
    "from memery.encoder import text_encoder"
   ]
  },
  {
   "cell_type": "code",
   "execution_count": null,
   "metadata": {},
   "outputs": [],
   "source": [
    "treemap = treemap_loader(Path('images/memery.ann'))"
   ]
  },
  {
   "cell_type": "code",
   "execution_count": null,
   "metadata": {},
   "outputs": [
    {
     "data": {
      "text/plain": [
       "79"
      ]
     },
     "execution_count": null,
     "metadata": {},
     "output_type": "execute_result"
    }
   ],
   "source": [
    "treemap.get_n_items()"
   ]
  },
  {
   "cell_type": "code",
   "execution_count": null,
   "metadata": {},
   "outputs": [],
   "source": [
    "#export\n",
    "def ranker(query_vec, treemap):\n",
    "    nn_indexes = treemap.get_nns_by_vector(query_vec[0], treemap.get_n_items())\n",
    "    return(nn_indexes)"
   ]
  },
  {
   "cell_type": "code",
   "execution_count": null,
   "metadata": {},
   "outputs": [],
   "source": [
    "#export\n",
    "def nns_to_files(db, indexes):\n",
    "    return([[v['fpath'] for k,v in db.items() if v['index'] == ind][0] for ind in indexes])"
   ]
  },
  {
   "cell_type": "code",
   "execution_count": null,
   "metadata": {},
   "outputs": [],
   "source": [
    "device = torch.device(\"cuda\" if torch.cuda.is_available() else \"cpu\")\n",
    "db = db_loader(Path('images/memery.pt'), device)"
   ]
  },
  {
   "cell_type": "code",
   "execution_count": null,
   "metadata": {},
   "outputs": [],
   "source": [
    "query = 'dog'"
   ]
  },
  {
   "cell_type": "code",
   "execution_count": null,
   "metadata": {},
   "outputs": [],
   "source": [
    "query_vec = text_encoder(query, device)\n",
    "indexes = ranker(query_vec, treemap)\n",
    "ranked_files = nns_to_files(db, indexes)"
   ]
  },
  {
   "cell_type": "code",
   "execution_count": null,
   "metadata": {},
   "outputs": [
    {
     "data": {
      "text/plain": [
       "['images/Wholesome-Meme-8.jpg',\n",
       " 'images/Wholesome-Meme-5.jpg',\n",
       " 'images/Wholesome-Meme-35.jpg',\n",
       " 'images/Wholesome-Meme-67.png',\n",
       " 'images/embarassed-dog-on-bed-SA2BDZW.jpg',\n",
       " 'images/Wholesome-Meme-72.jpg',\n",
       " 'images/braydon-anderson-wOHH-NUTvVc-unsplash-min.jpg',\n",
       " 'images/cute-dog-with-cupcake-P9E2YL5-min.jpg',\n",
       " 'images/Wholesome-Meme-3.jpg',\n",
       " 'images/Wholesome-Meme-18.jpg',\n",
       " 'images/Wholesome-Meme-29.jpg',\n",
       " 'images/Wholesome-Meme-13.jpg',\n",
       " 'images/Wholesome-Meme-14.jpg',\n",
       " 'images/Wholesome-Meme-71.jpg',\n",
       " 'images/Wholesome-Meme-44.png',\n",
       " 'images/Wholesome-Meme-63.jpg',\n",
       " 'images/Wholesome-Meme-15.jpg',\n",
       " 'images/Wholesome-Meme-17.jpg',\n",
       " 'images/Wholesome-Meme-98.jpg',\n",
       " 'images/stonks-meme.jpg',\n",
       " 'images/Wholesome-Meme-39.jpg',\n",
       " 'images/Wholesome-Meme-68.jpg',\n",
       " 'images/Wholesome-Meme-45.jpg',\n",
       " 'images/Wholesome-Meme-36.jpg',\n",
       " 'images/Wholesome-Meme-22.jpg',\n",
       " 'images/Wholesome-Meme-77.jpg',\n",
       " 'images/Wholesome-Meme-61.png',\n",
       " 'images/Wholesome-Meme-84.jpg',\n",
       " 'images/Wholesome-Meme-25.jpg',\n",
       " 'images/Wholesome-Meme-28.jpg',\n",
       " 'images/Wholesome-Meme-41.jpg',\n",
       " 'images/Wholesome-Meme-12.jpg',\n",
       " 'images/Wholesome-Meme-99.jpg',\n",
       " 'images/Wholesome-Meme-7.jpg',\n",
       " 'images/Wholesome-Meme-21.jpg',\n",
       " 'images/Wholesome-Meme-57.jpg',\n",
       " 'images/Wholesome-Meme.jpg',\n",
       " 'images/Wholesome-Meme-27.jpg',\n",
       " 'images/Wholesome-Meme-23.jpg',\n",
       " 'images/Wholesome-Meme-10.jpg',\n",
       " 'images/Wholesome-Meme-74.jpg',\n",
       " 'images/Shrek_screenshot.jpg',\n",
       " 'images/Wholesome-Meme-76.jpg',\n",
       " 'images/Wholesome-Meme-69.jpg',\n",
       " 'images/Wholesome-Meme-73.png',\n",
       " 'images/Wholesome-Meme-1.jpg',\n",
       " 'images/Wholesome-Meme-40.png',\n",
       " 'images/Wholesome-Meme-78.jpg',\n",
       " 'images/Wholesome-Meme-6.jpg',\n",
       " 'images/Wholesome-Meme-89.jpg',\n",
       " 'images/Wholesome-Meme-60.jpg',\n",
       " 'images/Wholesome-Meme-4.jpg',\n",
       " 'images/Wholesome-Meme-34.jpg',\n",
       " 'images/Wholesome-Meme-86.jpg',\n",
       " 'images/Wholesome-Meme-16.jpg',\n",
       " 'images/Wholesome-Meme-80.jpg',\n",
       " 'images/Wholesome-Meme-65.jpg',\n",
       " 'images/Wholesome-Meme-33.jpg',\n",
       " 'images/Wholesome-Meme-85.jpg',\n",
       " 'images/Wholesome-Meme-81.jpg',\n",
       " 'images/Wholesome-Meme-88.jpg',\n",
       " 'images/Wholesome-Meme-42.jpg',\n",
       " 'images/Wholesome-Meme-82.jpg',\n",
       " 'images/halloween-Pumpkin-min.jpg',\n",
       " 'images/Wholesome-Meme-59.jpg',\n",
       " 'images/Wholesome-Meme-31.jpg',\n",
       " 'images/Wholesome-Meme-9.jpg',\n",
       " 'images/cute-baby-touching-his-moms-face.jpeg',\n",
       " 'images/Wholesome-Meme-70.jpg',\n",
       " 'images/Wholesome-Meme-97.jpg',\n",
       " 'images/Wholesome-Meme-64.jpg',\n",
       " 'images/happy-young-couple-eat-breakfast-in-bed-in-morning-RH4KQ72.jpg',\n",
       " 'images/love-from-the-past-PPBEUVU-min.jpg',\n",
       " 'images/i-love-you-note-in-the-valentine-day-settings-X87BZ44.jpg',\n",
       " 'images/portrait-of-happy-birthday-boy-B8VU4LZ.jpg',\n",
       " 'images/Envato-Elements.png',\n",
       " 'images/Father-and-son-having-fun-at-the-breakfast-table.jpg',\n",
       " 'images/mexican-food-concept-EXFWKZG.jpg']"
      ]
     },
     "execution_count": null,
     "metadata": {},
     "output_type": "execute_result"
    }
   ],
   "source": [
    "ranked_files"
   ]
  }
 ],
 "metadata": {
  "kernelspec": {
   "display_name": "Python 3",
   "language": "python",
   "name": "python3"
  }
 },
 "nbformat": 4,
 "nbformat_minor": 4
}
